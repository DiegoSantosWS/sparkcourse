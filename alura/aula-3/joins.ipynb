{
 "cells": [
  {
   "cell_type": "code",
   "execution_count": 24,
   "metadata": {},
   "outputs": [
    {
     "data": {
      "text/html": [
       "\n",
       "            <div>\n",
       "                <p><b>SparkSession - in-memory</b></p>\n",
       "                \n",
       "        <div>\n",
       "            <p><b>SparkContext</b></p>\n",
       "\n",
       "            <p><a href=\"http://192.168.3.3:4040\">Spark UI</a></p>\n",
       "\n",
       "            <dl>\n",
       "              <dt>Version</dt>\n",
       "                <dd><code>v3.2.1</code></dd>\n",
       "              <dt>Master</dt>\n",
       "                <dd><code>local[*]</code></dd>\n",
       "              <dt>AppName</dt>\n",
       "                <dd><code>Joins</code></dd>\n",
       "            </dl>\n",
       "        </div>\n",
       "        \n",
       "            </div>\n",
       "        "
      ],
      "text/plain": [
       "<pyspark.sql.session.SparkSession at 0x7fdd083ac190>"
      ]
     },
     "execution_count": 24,
     "metadata": {},
     "output_type": "execute_result"
    }
   ],
   "source": [
    "from pyspark.sql import SparkSession\n",
    "\n",
    "spark = SparkSession.builder \\\n",
    "    .master('local[*]') \\\n",
    "    .appName(\"Joins\") \\\n",
    "    .getOrCreate()\n",
    "\n",
    "spark"
   ]
  },
  {
   "cell_type": "code",
   "execution_count": 25,
   "metadata": {},
   "outputs": [],
   "source": [
    "# imports and path\n",
    "from pyspark.sql.types import DoubleType, StringType\n",
    "from pyspark.sql import functions as func\n",
    "from pyspark.sql import DataFrame\n",
    "\n",
    "pathEmpresas = \"../datasets/alura/01/empresas/\"\n",
    "pathSocios = \"../datasets/alura/01/socios/\"\n",
    "pathEstabs = \"../datasets/alura/01/estabelecimentos/\""
   ]
  },
  {
   "cell_type": "code",
   "execution_count": 26,
   "metadata": {},
   "outputs": [
    {
     "name": "stderr",
     "output_type": "stream",
     "text": [
      "[Stage 109:============================================>           (8 + 2) / 10]\r"
     ]
    },
    {
     "name": "stdout",
     "output_type": "stream",
     "text": [
      "+----+--------------------+----+---+-------+---+----+\n",
      "| _c0|                 _c1| _c2|_c3|    _c4|_c5| _c6|\n",
      "+----+--------------------+----+---+-------+---+----+\n",
      "| 306|FRANCAMAR REFRIGE...|2240| 49|   0,00|  1|null|\n",
      "|1355|BRASILEIRO & OLIV...|2062| 49|   0,00|  5|null|\n",
      "|4820|REGISTRO DE IMOVE...|3034| 32|   0,00|  5|null|\n",
      "|5347|ROSELY APARECIDA ...|2135| 50|   0,00|  5|null|\n",
      "|6846|BADU E FILHOS TEC...|2062| 49|4000,00|  1|null|\n",
      "+----+--------------------+----+---+-------+---+----+\n",
      "only showing top 5 rows\n",
      "\n"
     ]
    },
    {
     "name": "stderr",
     "output_type": "stream",
     "text": [
      "                                                                                \r"
     ]
    }
   ],
   "source": [
    "empresas = spark.read.csv(pathEmpresas, sep=';', inferSchema=True)\n",
    "empresas.show(5)"
   ]
  },
  {
   "cell_type": "code",
   "execution_count": 27,
   "metadata": {},
   "outputs": [
    {
     "name": "stderr",
     "output_type": "stream",
     "text": [
      "[Stage 112:=======================================>                (7 + 3) / 10]\r"
     ]
    },
    {
     "name": "stdout",
     "output_type": "stream",
     "text": [
      "+----+--------------------+----+---+-------+---+----+\n",
      "| _c0|                 _c1| _c2|_c3|    _c4|_c5| _c6|\n",
      "+----+--------------------+----+---+-------+---+----+\n",
      "| 306|FRANCAMAR REFRIGE...|2240| 49|   0,00|  1|null|\n",
      "|1355|BRASILEIRO & OLIV...|2062| 49|   0,00|  5|null|\n",
      "|4820|REGISTRO DE IMOVE...|3034| 32|   0,00|  5|null|\n",
      "|5347|ROSELY APARECIDA ...|2135| 50|   0,00|  5|null|\n",
      "|6846|BADU E FILHOS TEC...|2062| 49|4000,00|  1|null|\n",
      "+----+--------------------+----+---+-------+---+----+\n",
      "only showing top 5 rows\n",
      "\n"
     ]
    },
    {
     "name": "stderr",
     "output_type": "stream",
     "text": [
      "                                                                                \r"
     ]
    }
   ],
   "source": [
    "socios = spark.read.csv(pathSocios, sep=';', inferSchema=True)\n",
    "empresas.show(5)"
   ]
  },
  {
   "cell_type": "code",
   "execution_count": 28,
   "metadata": {},
   "outputs": [
    {
     "name": "stderr",
     "output_type": "stream",
     "text": [
      "[Stage 115:============================================>           (8 + 2) / 10]\r"
     ]
    },
    {
     "name": "stdout",
     "output_type": "stream",
     "text": [
      "+----+---+---+---+-----------------+---+--------+---+----+----+--------+-------+----+----+--------------------+----+-------+------------------+-------+----+----+----+----+----+----+----+----+----+----+----+\n",
      "| _c0|_c1|_c2|_c3|              _c4|_c5|     _c6|_c7| _c8| _c9|    _c10|   _c11|_c12|_c13|                _c14|_c15|   _c16|              _c17|   _c18|_c19|_c20|_c21|_c22|_c23|_c24|_c25|_c26|_c27|_c28|_c29|\n",
      "+----+---+---+---+-----------------+---+--------+---+----+----+--------+-------+----+----+--------------------+----+-------+------------------+-------+----+----+----+----+----+----+----+----+----+----+----+\n",
      "|1879|  1| 96|  1|   PIRAMIDE M. C.|  8|20011029|  1|null|null|19940509|1412602|null| RUA|     JOSE FIGLIOLINI| 608|   null|         VILA NILO|2278020|  SP|7107|null|null|null|null|null|null|null|null|null|\n",
      "|2818|  1| 43|  1|             null|  8|20081231| 71|null|null|19940512|4671100|null| RUA|              BAQUIA| 416|   null|VL NOVA MANCHESTER|3443000|  SP|7107|null|null|null|null|null|null|null|null|null|\n",
      "|3110|  1|  7|  1|             null|  8|19971231|  1|null|null|19940512|4789007|null| RUA|     LEOCADIA CINTRA| 180|CONJ 83|             MOOCA|3112040|  SP|7107|null|null|null|null|null|null|null|null|null|\n",
      "|3733|  1| 80|  1|             null|  8|20081231| 71|null|null|19940513|7490101|null| RUA|        AFONSO CELSO|1102| CASA 1|      VILA MARIANA|4119061|  SP|7107|null|null|null|null|null|null|null|null|null|\n",
      "|4628|  3| 27|  2|EMBROIDERY & GIFT|  8|19980429|  1|null|null|19950509|4755501|null| RUA|DOUTOR GABRIEL NI...| 177|   null|       RUDGE RAMOS|9632040|  SP|7075|null|null|null|null|null|null|null|null|null|\n",
      "+----+---+---+---+-----------------+---+--------+---+----+----+--------+-------+----+----+--------------------+----+-------+------------------+-------+----+----+----+----+----+----+----+----+----+----+----+\n",
      "only showing top 5 rows\n",
      "\n"
     ]
    },
    {
     "name": "stderr",
     "output_type": "stream",
     "text": [
      "                                                                                \r"
     ]
    }
   ],
   "source": [
    "\n",
    "estabs = spark.read.csv(pathEstabs, sep=';', inferSchema=True)\n",
    "estabs.show(5)"
   ]
  },
  {
   "cell_type": "code",
   "execution_count": 29,
   "metadata": {},
   "outputs": [],
   "source": [
    "def rename(df: DataFrame, names=[]) -> DataFrame:\n",
    "    for idx, name in enumerate(names):\n",
    "        df = df.withColumnRenamed(f\"_c{idx}\", name)\n",
    "    # display(res)\n",
    "    return df"
   ]
  },
  {
   "cell_type": "code",
   "execution_count": 30,
   "metadata": {},
   "outputs": [],
   "source": [
    "empresColNames = ['cnpj_basico', 'razao_social_nome_empresarial', 'natureza_juridica', 'qualificacao_do_responsavel', 'capital_social_da_empresa', 'porte_da_empresa', 'ente_federativo_responsavel']\n",
    "estabsColNames = ['cnpj_basico', 'cnpj_ordem', 'cnpj_dv', 'identificador_matriz_filial', 'nome_fantasia', 'situacao_cadastral', 'data_situacao_cadastral', 'motivo_situacao_cadastral', 'nome_da_cidade_no_exterior', 'pais', 'data_de_inicio_atividade', 'cnae_fiscal_principal', 'cnae_fiscal_secundaria', 'tipo_de_logradouro', 'logradouro', 'numero', 'complemento', 'bairro', 'cep', 'uf', 'municipio', 'ddd_1', 'telefone_1', 'ddd_2', 'telefone_2', 'ddd_do_fax', 'fax', 'correio_eletronico', 'situacao_especial', 'data_da_situacao_especial']\n",
    "sociosColNames = ['cnpj_basico', 'identificador_de_socio', 'nome_do_socio_ou_razao_social', 'cnpj_ou_cpf_do_socio', 'qualificacao_do_socio', 'data_de_entrada_sociedade', 'pais', 'representante_legal', 'nome_do_representante', 'qualificacao_do_representante_legal', 'faixa_etaria']\n"
   ]
  },
  {
   "cell_type": "code",
   "execution_count": 31,
   "metadata": {},
   "outputs": [
    {
     "name": "stdout",
     "output_type": "stream",
     "text": [
      "root\n",
      " |-- cnpj_basico: integer (nullable = true)\n",
      " |-- razao_social_nome_empresarial: string (nullable = true)\n",
      " |-- natureza_juridica: integer (nullable = true)\n",
      " |-- qualificacao_do_responsavel: integer (nullable = true)\n",
      " |-- capital_social_da_empresa: double (nullable = true)\n",
      " |-- porte_da_empresa: integer (nullable = true)\n",
      " |-- ente_federativo_responsavel: string (nullable = true)\n",
      "\n"
     ]
    }
   ],
   "source": [
    "empresas = rename(empresas, empresColNames)\n",
    "empresas = empresas.withColumn('capital_social_da_empresa', func.regexp_replace('capital_social_da_empresa', ',', '.'))\n",
    "empresas = empresas.withColumn('capital_social_da_empresa', empresas['capital_social_da_empresa'].cast(DoubleType()))\n",
    "empresas.printSchema()"
   ]
  },
  {
   "cell_type": "code",
   "execution_count": 32,
   "metadata": {},
   "outputs": [],
   "source": [
    "# for idx, name in enumerate(estabsColNames):\n",
    "#         estabs = estabs.withColumnRenamed(f\"_c{idx}\", name)\n",
    "\n",
    "estabs = rename(estabs, estabsColNames)"
   ]
  },
  {
   "cell_type": "code",
   "execution_count": 33,
   "metadata": {},
   "outputs": [],
   "source": [
    "estabs = estabs.withColumn(\n",
    "        'data_situacao_cadastral', func.to_date(estabs.data_situacao_cadastral.cast(StringType()), 'yyyyMMdd')\n",
    "    ).withColumn(\n",
    "        'data_de_inicio_atividade', func.to_date(estabs.data_de_inicio_atividade.cast(StringType()), 'yyyyMMdd')\n",
    "    ).withColumn(\n",
    "        'data_da_situacao_especial', func.to_date(estabs.data_da_situacao_especial.cast(StringType()), 'yyyyMMdd')\n",
    "    )"
   ]
  },
  {
   "cell_type": "code",
   "execution_count": 34,
   "metadata": {},
   "outputs": [
    {
     "name": "stdout",
     "output_type": "stream",
     "text": [
      "+-----------+---------+------+-------+\n",
      "|cnpj_basico|cadastral|inicio|epecial|\n",
      "+-----------+---------+------+-------+\n",
      "|       1879|     2001|  1994|   null|\n",
      "|       2818|     2008|  1994|   null|\n",
      "|       3110|     1997|  1994|   null|\n",
      "|       3733|     2008|  1994|   null|\n",
      "|       4628|     1998|  1995|   null|\n",
      "|       4628|     2004|  1999|   null|\n",
      "|       4628|     1996|  1995|   null|\n",
      "|       4628|     2005|  1994|   null|\n",
      "|      10804|     2017|  1994|   null|\n",
      "|      11448|     2008|  1994|   null|\n",
      "|      13566|     2000|  1994|   null|\n",
      "|      15324|     2008|  1994|   null|\n",
      "|      17853|     2007|  1994|   null|\n",
      "|      18103|     2008|  1994|   null|\n",
      "|      22504|     2015|  1994|   null|\n",
      "|      23494|     2015|  1994|   null|\n",
      "|      23494|     2015|  2004|   null|\n",
      "|      24117|     1985|  1968|   null|\n",
      "|      24242|     2008|  1994|   null|\n",
      "|      24323|     2008|  1982|   null|\n",
      "+-----------+---------+------+-------+\n",
      "only showing top 20 rows\n",
      "\n"
     ]
    }
   ],
   "source": [
    "sel = estabs.select(\n",
    "    'cnpj_basico',\n",
    "    func.year('data_situacao_cadastral').alias('cadastral'),\n",
    "    func.year('data_de_inicio_atividade').alias('inicio'),\n",
    "    func.year('data_da_situacao_especial').alias('epecial')\n",
    ")\n",
    "\n",
    "sel.limit(50).show()"
   ]
  },
  {
   "cell_type": "code",
   "execution_count": 35,
   "metadata": {},
   "outputs": [
    {
     "name": "stdout",
     "output_type": "stream",
     "text": [
      "root\n",
      " |-- cnpj_basico: integer (nullable = true)\n",
      " |-- identificador_de_socio: integer (nullable = true)\n",
      " |-- nome_do_socio_ou_razao_social: string (nullable = true)\n",
      " |-- cnpj_ou_cpf_do_socio: string (nullable = true)\n",
      " |-- qualificacao_do_socio: integer (nullable = true)\n",
      " |-- data_de_entrada_sociedade: date (nullable = true)\n",
      " |-- pais: integer (nullable = true)\n",
      " |-- representante_legal: string (nullable = true)\n",
      " |-- nome_do_representante: string (nullable = true)\n",
      " |-- qualificacao_do_representante_legal: integer (nullable = true)\n",
      " |-- faixa_etaria: integer (nullable = true)\n",
      "\n"
     ]
    }
   ],
   "source": [
    "socios = rename(socios, sociosColNames)\n",
    "socios = socios\\\n",
    "    .withColumn(\n",
    "        \"data_de_entrada_sociedade\", \n",
    "        func.to_date(socios.data_de_entrada_sociedade.cast(StringType()), 'yyyyMMdd')\n",
    "    )\n",
    "socios.printSchema()"
   ]
  },
  {
   "cell_type": "code",
   "execution_count": 36,
   "metadata": {},
   "outputs": [],
   "source": [
    "empresas_join = estabs.join(empresas, 'cnpj_basico', 'inner')"
   ]
  },
  {
   "cell_type": "code",
   "execution_count": 37,
   "metadata": {},
   "outputs": [
    {
     "name": "stdout",
     "output_type": "stream",
     "text": [
      "root\n",
      " |-- cnpj_basico: integer (nullable = true)\n",
      " |-- cnpj_ordem: integer (nullable = true)\n",
      " |-- cnpj_dv: integer (nullable = true)\n",
      " |-- identificador_matriz_filial: integer (nullable = true)\n",
      " |-- nome_fantasia: string (nullable = true)\n",
      " |-- situacao_cadastral: integer (nullable = true)\n",
      " |-- data_situacao_cadastral: date (nullable = true)\n",
      " |-- motivo_situacao_cadastral: integer (nullable = true)\n",
      " |-- nome_da_cidade_no_exterior: string (nullable = true)\n",
      " |-- pais: integer (nullable = true)\n",
      " |-- data_de_inicio_atividade: date (nullable = true)\n",
      " |-- cnae_fiscal_principal: integer (nullable = true)\n",
      " |-- cnae_fiscal_secundaria: string (nullable = true)\n",
      " |-- tipo_de_logradouro: string (nullable = true)\n",
      " |-- logradouro: string (nullable = true)\n",
      " |-- numero: string (nullable = true)\n",
      " |-- complemento: string (nullable = true)\n",
      " |-- bairro: string (nullable = true)\n",
      " |-- cep: integer (nullable = true)\n",
      " |-- uf: string (nullable = true)\n",
      " |-- municipio: integer (nullable = true)\n",
      " |-- ddd_1: string (nullable = true)\n",
      " |-- telefone_1: string (nullable = true)\n",
      " |-- ddd_2: string (nullable = true)\n",
      " |-- telefone_2: string (nullable = true)\n",
      " |-- ddd_do_fax: integer (nullable = true)\n",
      " |-- fax: string (nullable = true)\n",
      " |-- correio_eletronico: string (nullable = true)\n",
      " |-- situacao_especial: string (nullable = true)\n",
      " |-- data_da_situacao_especial: date (nullable = true)\n",
      " |-- razao_social_nome_empresarial: string (nullable = true)\n",
      " |-- natureza_juridica: integer (nullable = true)\n",
      " |-- qualificacao_do_responsavel: integer (nullable = true)\n",
      " |-- capital_social_da_empresa: double (nullable = true)\n",
      " |-- porte_da_empresa: integer (nullable = true)\n",
      " |-- ente_federativo_responsavel: string (nullable = true)\n",
      "\n"
     ]
    }
   ],
   "source": [
    "empresas_join.printSchema()"
   ]
  },
  {
   "cell_type": "code",
   "execution_count": 38,
   "metadata": {},
   "outputs": [
    {
     "name": "stderr",
     "output_type": "stream",
     "text": [
      "[Stage 120:==================================================>     (9 + 1) / 10]\r"
     ]
    },
    {
     "name": "stdout",
     "output_type": "stream",
     "text": [
      "+-----------+--------------+\n",
      "|cnpj_basico|data_de_inicio|\n",
      "+-----------+--------------+\n",
      "|243        |1994          |\n",
      "|336        |1994          |\n",
      "|362        |1994          |\n",
      "|451        |1994          |\n",
      "|458        |1994          |\n",
      "|481        |1994          |\n",
      "|513        |1981          |\n",
      "|633        |1994          |\n",
      "|633        |2000          |\n",
      "|642        |1994          |\n",
      "+-----------+--------------+\n",
      "only showing top 10 rows\n",
      "\n"
     ]
    },
    {
     "name": "stderr",
     "output_type": "stream",
     "text": [
      "                                                                                \r"
     ]
    }
   ],
   "source": [
    "empresas_join.select(\n",
    "    'cnpj_basico',\n",
    "    # func.isnull('data_de_inicio_atividade').alias('data_de_inicio_atividade'),\n",
    "    func.year('data_de_inicio_atividade').alias('data_de_inicio')\n",
    ").show(10, False)"
   ]
  },
  {
   "cell_type": "code",
   "execution_count": 39,
   "metadata": {},
   "outputs": [],
   "source": [
    "freq = empresas_join.select(\n",
    "    'cnpj_basico',\n",
    "    func.year('data_de_inicio_atividade').alias('data_de_inicio')\n",
    ")\\\n",
    ".where('data_de_inicio >= 2010')\\\n",
    ".groupBy('data_de_inicio')\\\n",
    ".agg(func.count('cnpj_basico').alias('frequencia'))\\\n",
    ".orderBy('data_de_inicio', ascending=True)"
   ]
  },
  {
   "cell_type": "code",
   "execution_count": 40,
   "metadata": {},
   "outputs": [
    {
     "name": "stderr",
     "output_type": "stream",
     "text": [
      "22/04/24 21:52:14 WARN RowBasedKeyValueBatch: Calling spill() on RowBasedKeyValueBatch. Will not spill but return 0.\n",
      "22/04/24 21:52:14 WARN RowBasedKeyValueBatch: Calling spill() on RowBasedKeyValueBatch. Will not spill but return 0.\n",
      "22/04/24 21:52:14 WARN RowBasedKeyValueBatch: Calling spill() on RowBasedKeyValueBatch. Will not spill but return 0.\n",
      "22/04/24 21:52:14 WARN RowBasedKeyValueBatch: Calling spill() on RowBasedKeyValueBatch. Will not spill but return 0.\n",
      "22/04/24 21:52:14 WARN RowBasedKeyValueBatch: Calling spill() on RowBasedKeyValueBatch. Will not spill but return 0.\n",
      "22/04/24 21:52:14 WARN RowBasedKeyValueBatch: Calling spill() on RowBasedKeyValueBatch. Will not spill but return 0.\n",
      "22/04/24 21:52:14 WARN RowBasedKeyValueBatch: Calling spill() on RowBasedKeyValueBatch. Will not spill but return 0.\n",
      "22/04/24 21:52:14 WARN RowBasedKeyValueBatch: Calling spill() on RowBasedKeyValueBatch. Will not spill but return 0.\n",
      "                                                                                \r"
     ]
    },
    {
     "data": {
      "text/html": [
       "<div>\n",
       "<style scoped>\n",
       "    .dataframe tbody tr th:only-of-type {\n",
       "        vertical-align: middle;\n",
       "    }\n",
       "\n",
       "    .dataframe tbody tr th {\n",
       "        vertical-align: top;\n",
       "    }\n",
       "\n",
       "    .dataframe thead th {\n",
       "        text-align: right;\n",
       "    }\n",
       "</style>\n",
       "<table border=\"1\" class=\"dataframe\">\n",
       "  <thead>\n",
       "    <tr style=\"text-align: right;\">\n",
       "      <th></th>\n",
       "      <th>data_de_inicio</th>\n",
       "      <th>frequencia</th>\n",
       "    </tr>\n",
       "  </thead>\n",
       "  <tbody>\n",
       "    <tr>\n",
       "      <th>0</th>\n",
       "      <td>2010</td>\n",
       "      <td>154159</td>\n",
       "    </tr>\n",
       "    <tr>\n",
       "      <th>1</th>\n",
       "      <td>2011</td>\n",
       "      <td>172677</td>\n",
       "    </tr>\n",
       "    <tr>\n",
       "      <th>2</th>\n",
       "      <td>2012</td>\n",
       "      <td>232480</td>\n",
       "    </tr>\n",
       "    <tr>\n",
       "      <th>3</th>\n",
       "      <td>2013</td>\n",
       "      <td>198424</td>\n",
       "    </tr>\n",
       "    <tr>\n",
       "      <th>4</th>\n",
       "      <td>2014</td>\n",
       "      <td>202276</td>\n",
       "    </tr>\n",
       "    <tr>\n",
       "      <th>5</th>\n",
       "      <td>2015</td>\n",
       "      <td>212523</td>\n",
       "    </tr>\n",
       "    <tr>\n",
       "      <th>6</th>\n",
       "      <td>2016</td>\n",
       "      <td>265417</td>\n",
       "    </tr>\n",
       "    <tr>\n",
       "      <th>7</th>\n",
       "      <td>2017</td>\n",
       "      <td>237292</td>\n",
       "    </tr>\n",
       "    <tr>\n",
       "      <th>8</th>\n",
       "      <td>2018</td>\n",
       "      <td>275435</td>\n",
       "    </tr>\n",
       "    <tr>\n",
       "      <th>9</th>\n",
       "      <td>2019</td>\n",
       "      <td>325922</td>\n",
       "    </tr>\n",
       "    <tr>\n",
       "      <th>10</th>\n",
       "      <td>2020</td>\n",
       "      <td>400654</td>\n",
       "    </tr>\n",
       "    <tr>\n",
       "      <th>11</th>\n",
       "      <td>2021</td>\n",
       "      <td>153275</td>\n",
       "    </tr>\n",
       "  </tbody>\n",
       "</table>\n",
       "</div>"
      ],
      "text/plain": [
       "    data_de_inicio  frequencia\n",
       "0             2010      154159\n",
       "1             2011      172677\n",
       "2             2012      232480\n",
       "3             2013      198424\n",
       "4             2014      202276\n",
       "5             2015      212523\n",
       "6             2016      265417\n",
       "7             2017      237292\n",
       "8             2018      275435\n",
       "9             2019      325922\n",
       "10            2020      400654\n",
       "11            2021      153275"
      ]
     },
     "execution_count": 40,
     "metadata": {},
     "output_type": "execute_result"
    }
   ],
   "source": [
    "freq.toPandas()"
   ]
  },
  {
   "cell_type": "code",
   "execution_count": 41,
   "metadata": {},
   "outputs": [
    {
     "name": "stderr",
     "output_type": "stream",
     "text": [
      "22/04/24 21:52:28 WARN RowBasedKeyValueBatch: Calling spill() on RowBasedKeyValueBatch. Will not spill but return 0.\n",
      "22/04/24 21:52:28 WARN RowBasedKeyValueBatch: Calling spill() on RowBasedKeyValueBatch. Will not spill but return 0.\n",
      "22/04/24 21:52:28 WARN RowBasedKeyValueBatch: Calling spill() on RowBasedKeyValueBatch. Will not spill but return 0.\n",
      "22/04/24 21:52:28 WARN RowBasedKeyValueBatch: Calling spill() on RowBasedKeyValueBatch. Will not spill but return 0.\n",
      "22/04/24 21:52:28 WARN RowBasedKeyValueBatch: Calling spill() on RowBasedKeyValueBatch. Will not spill but return 0.\n",
      "22/04/24 21:52:28 WARN RowBasedKeyValueBatch: Calling spill() on RowBasedKeyValueBatch. Will not spill but return 0.\n",
      "22/04/24 21:52:29 WARN RowBasedKeyValueBatch: Calling spill() on RowBasedKeyValueBatch. Will not spill but return 0.\n",
      "22/04/24 21:52:29 WARN RowBasedKeyValueBatch: Calling spill() on RowBasedKeyValueBatch. Will not spill but return 0.\n",
      "[Stage 147:=================================================>       (7 + 1) / 8]\r"
     ]
    },
    {
     "name": "stdout",
     "output_type": "stream",
     "text": [
      "+--------------+----------+\n",
      "|data_de_inicio|frequencia|\n",
      "+--------------+----------+\n",
      "|          2010|    154159|\n",
      "|          2011|    172677|\n",
      "|          2012|    232480|\n",
      "|          2013|    198424|\n",
      "|          2014|    202276|\n",
      "|          2015|    212523|\n",
      "|          2016|    265417|\n",
      "|          2017|    237292|\n",
      "|          2018|    275435|\n",
      "|          2019|    325922|\n",
      "|          2020|    400654|\n",
      "|          2021|    153275|\n",
      "|         Total|   2830534|\n",
      "+--------------+----------+\n",
      "\n"
     ]
    },
    {
     "name": "stderr",
     "output_type": "stream",
     "text": [
      "                                                                                \r"
     ]
    }
   ],
   "source": [
    "freq.union(\n",
    "    freq.select(\n",
    "        func.lit('Total').alias('data_de_inicio'),\n",
    "        func.sum(freq.frequencia).alias('frequencia')\n",
    "    )\n",
    ").show()"
   ]
  },
  {
   "cell_type": "code",
   "execution_count": 42,
   "metadata": {},
   "outputs": [],
   "source": [
    "empresas_join.createOrReplaceTempView(\"empresasJoinView\")"
   ]
  },
  {
   "cell_type": "code",
   "execution_count": 43,
   "metadata": {},
   "outputs": [
    {
     "name": "stderr",
     "output_type": "stream",
     "text": [
      "22/04/24 21:52:45 WARN RowBasedKeyValueBatch: Calling spill() on RowBasedKeyValueBatch. Will not spill but return 0.\n",
      "22/04/24 21:52:45 WARN RowBasedKeyValueBatch: Calling spill() on RowBasedKeyValueBatch. Will not spill but return 0.\n",
      "22/04/24 21:52:45 WARN RowBasedKeyValueBatch: Calling spill() on RowBasedKeyValueBatch. Will not spill but return 0.\n",
      "22/04/24 21:52:45 WARN RowBasedKeyValueBatch: Calling spill() on RowBasedKeyValueBatch. Will not spill but return 0.\n",
      "22/04/24 21:52:45 WARN RowBasedKeyValueBatch: Calling spill() on RowBasedKeyValueBatch. Will not spill but return 0.\n",
      "22/04/24 21:52:45 WARN RowBasedKeyValueBatch: Calling spill() on RowBasedKeyValueBatch. Will not spill but return 0.\n",
      "22/04/24 21:52:45 WARN RowBasedKeyValueBatch: Calling spill() on RowBasedKeyValueBatch. Will not spill but return 0.\n",
      "22/04/24 21:52:45 WARN RowBasedKeyValueBatch: Calling spill() on RowBasedKeyValueBatch. Will not spill but return 0.\n",
      "                                                                                \r"
     ]
    },
    {
     "data": {
      "text/html": [
       "<div>\n",
       "<style scoped>\n",
       "    .dataframe tbody tr th:only-of-type {\n",
       "        vertical-align: middle;\n",
       "    }\n",
       "\n",
       "    .dataframe tbody tr th {\n",
       "        vertical-align: top;\n",
       "    }\n",
       "\n",
       "    .dataframe thead th {\n",
       "        text-align: right;\n",
       "    }\n",
       "</style>\n",
       "<table border=\"1\" class=\"dataframe\">\n",
       "  <thead>\n",
       "    <tr style=\"text-align: right;\">\n",
       "      <th></th>\n",
       "      <th>data_de_inicio</th>\n",
       "      <th>count</th>\n",
       "    </tr>\n",
       "  </thead>\n",
       "  <tbody>\n",
       "    <tr>\n",
       "      <th>0</th>\n",
       "      <td>2010</td>\n",
       "      <td>154159</td>\n",
       "    </tr>\n",
       "    <tr>\n",
       "      <th>1</th>\n",
       "      <td>2011</td>\n",
       "      <td>172677</td>\n",
       "    </tr>\n",
       "    <tr>\n",
       "      <th>2</th>\n",
       "      <td>2012</td>\n",
       "      <td>232480</td>\n",
       "    </tr>\n",
       "    <tr>\n",
       "      <th>3</th>\n",
       "      <td>2013</td>\n",
       "      <td>198424</td>\n",
       "    </tr>\n",
       "    <tr>\n",
       "      <th>4</th>\n",
       "      <td>2014</td>\n",
       "      <td>202276</td>\n",
       "    </tr>\n",
       "    <tr>\n",
       "      <th>5</th>\n",
       "      <td>2015</td>\n",
       "      <td>212523</td>\n",
       "    </tr>\n",
       "    <tr>\n",
       "      <th>6</th>\n",
       "      <td>2016</td>\n",
       "      <td>265417</td>\n",
       "    </tr>\n",
       "    <tr>\n",
       "      <th>7</th>\n",
       "      <td>2017</td>\n",
       "      <td>237292</td>\n",
       "    </tr>\n",
       "    <tr>\n",
       "      <th>8</th>\n",
       "      <td>2018</td>\n",
       "      <td>275435</td>\n",
       "    </tr>\n",
       "    <tr>\n",
       "      <th>9</th>\n",
       "      <td>2019</td>\n",
       "      <td>325922</td>\n",
       "    </tr>\n",
       "    <tr>\n",
       "      <th>10</th>\n",
       "      <td>2020</td>\n",
       "      <td>400654</td>\n",
       "    </tr>\n",
       "    <tr>\n",
       "      <th>11</th>\n",
       "      <td>2021</td>\n",
       "      <td>153275</td>\n",
       "    </tr>\n",
       "  </tbody>\n",
       "</table>\n",
       "</div>"
      ],
      "text/plain": [
       "    data_de_inicio   count\n",
       "0             2010  154159\n",
       "1             2011  172677\n",
       "2             2012  232480\n",
       "3             2013  198424\n",
       "4             2014  202276\n",
       "5             2015  212523\n",
       "6             2016  265417\n",
       "7             2017  237292\n",
       "8             2018  275435\n",
       "9             2019  325922\n",
       "10            2020  400654\n",
       "11            2021  153275"
      ]
     },
     "execution_count": 43,
     "metadata": {},
     "output_type": "execute_result"
    }
   ],
   "source": [
    "res = spark.sql(\"\"\"\n",
    "            SELECT \n",
    "                YEAR(data_de_inicio_atividade) AS data_de_inicio,\n",
    "                COUNT(cnpj_basico) AS count\n",
    "            FROM empresasJoinView \n",
    "            WHERE YEAR(data_de_inicio_atividade) >= 2010\n",
    "            GROUP BY data_de_inicio\n",
    "            ORDER BY data_de_inicio\n",
    "                \"\"\")\n",
    "res.toPandas()"
   ]
  },
  {
   "cell_type": "code",
   "execution_count": 44,
   "metadata": {},
   "outputs": [],
   "source": [
    "res.createOrReplaceTempView(\"freqView\")"
   ]
  },
  {
   "cell_type": "code",
   "execution_count": 45,
   "metadata": {},
   "outputs": [
    {
     "name": "stderr",
     "output_type": "stream",
     "text": [
      "22/04/24 21:52:57 WARN RowBasedKeyValueBatch: Calling spill() on RowBasedKeyValueBatch. Will not spill but return 0.\n",
      "22/04/24 21:52:57 WARN RowBasedKeyValueBatch: Calling spill() on RowBasedKeyValueBatch. Will not spill but return 0.\n",
      "22/04/24 21:52:57 WARN RowBasedKeyValueBatch: Calling spill() on RowBasedKeyValueBatch. Will not spill but return 0.\n",
      "22/04/24 21:52:57 WARN RowBasedKeyValueBatch: Calling spill() on RowBasedKeyValueBatch. Will not spill but return 0.\n",
      "22/04/24 21:52:57 WARN RowBasedKeyValueBatch: Calling spill() on RowBasedKeyValueBatch. Will not spill but return 0.\n",
      "22/04/24 21:52:57 WARN RowBasedKeyValueBatch: Calling spill() on RowBasedKeyValueBatch. Will not spill but return 0.\n",
      "22/04/24 21:52:57 WARN RowBasedKeyValueBatch: Calling spill() on RowBasedKeyValueBatch. Will not spill but return 0.\n",
      "22/04/24 21:52:57 WARN RowBasedKeyValueBatch: Calling spill() on RowBasedKeyValueBatch. Will not spill but return 0.\n",
      "                                                                                \r"
     ]
    },
    {
     "data": {
      "text/html": [
       "<div>\n",
       "<style scoped>\n",
       "    .dataframe tbody tr th:only-of-type {\n",
       "        vertical-align: middle;\n",
       "    }\n",
       "\n",
       "    .dataframe tbody tr th {\n",
       "        vertical-align: top;\n",
       "    }\n",
       "\n",
       "    .dataframe thead th {\n",
       "        text-align: right;\n",
       "    }\n",
       "</style>\n",
       "<table border=\"1\" class=\"dataframe\">\n",
       "  <thead>\n",
       "    <tr style=\"text-align: right;\">\n",
       "      <th></th>\n",
       "      <th>data_de_inicio</th>\n",
       "      <th>count</th>\n",
       "    </tr>\n",
       "  </thead>\n",
       "  <tbody>\n",
       "    <tr>\n",
       "      <th>0</th>\n",
       "      <td>2010</td>\n",
       "      <td>154159</td>\n",
       "    </tr>\n",
       "    <tr>\n",
       "      <th>1</th>\n",
       "      <td>2011</td>\n",
       "      <td>172677</td>\n",
       "    </tr>\n",
       "    <tr>\n",
       "      <th>2</th>\n",
       "      <td>2012</td>\n",
       "      <td>232480</td>\n",
       "    </tr>\n",
       "    <tr>\n",
       "      <th>3</th>\n",
       "      <td>2013</td>\n",
       "      <td>198424</td>\n",
       "    </tr>\n",
       "    <tr>\n",
       "      <th>4</th>\n",
       "      <td>2014</td>\n",
       "      <td>202276</td>\n",
       "    </tr>\n",
       "    <tr>\n",
       "      <th>5</th>\n",
       "      <td>2015</td>\n",
       "      <td>212523</td>\n",
       "    </tr>\n",
       "    <tr>\n",
       "      <th>6</th>\n",
       "      <td>2016</td>\n",
       "      <td>265417</td>\n",
       "    </tr>\n",
       "    <tr>\n",
       "      <th>7</th>\n",
       "      <td>2017</td>\n",
       "      <td>237292</td>\n",
       "    </tr>\n",
       "    <tr>\n",
       "      <th>8</th>\n",
       "      <td>2018</td>\n",
       "      <td>275435</td>\n",
       "    </tr>\n",
       "    <tr>\n",
       "      <th>9</th>\n",
       "      <td>2019</td>\n",
       "      <td>325922</td>\n",
       "    </tr>\n",
       "    <tr>\n",
       "      <th>10</th>\n",
       "      <td>2020</td>\n",
       "      <td>400654</td>\n",
       "    </tr>\n",
       "    <tr>\n",
       "      <th>11</th>\n",
       "      <td>2021</td>\n",
       "      <td>153275</td>\n",
       "    </tr>\n",
       "    <tr>\n",
       "      <th>12</th>\n",
       "      <td>Total</td>\n",
       "      <td>2830534</td>\n",
       "    </tr>\n",
       "  </tbody>\n",
       "</table>\n",
       "</div>"
      ],
      "text/plain": [
       "   data_de_inicio    count\n",
       "0            2010   154159\n",
       "1            2011   172677\n",
       "2            2012   232480\n",
       "3            2013   198424\n",
       "4            2014   202276\n",
       "5            2015   212523\n",
       "6            2016   265417\n",
       "7            2017   237292\n",
       "8            2018   275435\n",
       "9            2019   325922\n",
       "10           2020   400654\n",
       "11           2021   153275\n",
       "12          Total  2830534"
      ]
     },
     "execution_count": 45,
     "metadata": {},
     "output_type": "execute_result"
    }
   ],
   "source": [
    "res = spark.sql(\"\"\"\n",
    "            SELECT * FROM freqView \n",
    "            UNION ALL SELECT 'Total' AS data_de_inicio, SUM(count) as count FROM freqView\n",
    "            \"\"\")\n",
    "res.toPandas()"
   ]
  }
 ],
 "metadata": {
  "interpreter": {
   "hash": "7e65be7c203517d8f17909775426de861a05e11d1f84230f0905cec11d30c2e8"
  },
  "kernelspec": {
   "display_name": "Python 3.8.10 ('coursepyspark-ufaD9Cly')",
   "language": "python",
   "name": "python3"
  },
  "language_info": {
   "codemirror_mode": {
    "name": "ipython",
    "version": 3
   },
   "file_extension": ".py",
   "mimetype": "text/x-python",
   "name": "python",
   "nbconvert_exporter": "python",
   "pygments_lexer": "ipython3",
   "version": "3.8.10"
  },
  "orig_nbformat": 4
 },
 "nbformat": 4,
 "nbformat_minor": 2
}

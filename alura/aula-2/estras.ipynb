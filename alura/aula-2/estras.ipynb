{
 "cells": [
  {
   "cell_type": "code",
   "execution_count": 3,
   "metadata": {},
   "outputs": [
    {
     "name": "stderr",
     "output_type": "stream",
     "text": [
      "22/04/24 11:14:43 WARN Utils: Your hostname, diego-fliper resolves to a loopback address: 127.0.1.1; using 192.168.3.3 instead (on interface wlp3s0)\n",
      "22/04/24 11:14:43 WARN Utils: Set SPARK_LOCAL_IP if you need to bind to another address\n",
      "WARNING: An illegal reflective access operation has occurred\n",
      "WARNING: Illegal reflective access by org.apache.spark.unsafe.Platform (file:/home/diego/.local/share/virtualenvs/coursepyspark-ufaD9Cly/lib/python3.8/site-packages/pyspark/jars/spark-unsafe_2.12-3.2.1.jar) to constructor java.nio.DirectByteBuffer(long,int)\n",
      "WARNING: Please consider reporting this to the maintainers of org.apache.spark.unsafe.Platform\n",
      "WARNING: Use --illegal-access=warn to enable warnings of further illegal reflective access operations\n",
      "WARNING: All illegal access operations will be denied in a future release\n",
      "Using Spark's default log4j profile: org/apache/spark/log4j-defaults.properties\n",
      "Setting default log level to \"WARN\".\n",
      "To adjust logging level use sc.setLogLevel(newLevel). For SparkR, use setLogLevel(newLevel).\n",
      "22/04/24 11:14:44 WARN NativeCodeLoader: Unable to load native-hadoop library for your platform... using builtin-java classes where applicable\n",
      "22/04/24 11:14:45 WARN Utils: Service 'SparkUI' could not bind on port 4040. Attempting port 4041.\n",
      "22/04/24 11:14:45 WARN Utils: Service 'SparkUI' could not bind on port 4041. Attempting port 4042.\n",
      "22/04/24 11:14:45 WARN Utils: Service 'SparkUI' could not bind on port 4042. Attempting port 4043.\n"
     ]
    }
   ],
   "source": [
    "from pyspark.sql import SparkSession\n",
    "from pyspark.sql import functions as f\n",
    "\n",
    "\n",
    "spark = SparkSession.builder \\\n",
    "    .master('local[*]') \\\n",
    "    .appName(\"extras\") \\\n",
    "    .getOrCreate()"
   ]
  },
  {
   "cell_type": "code",
   "execution_count": 4,
   "metadata": {},
   "outputs": [
    {
     "name": "stderr",
     "output_type": "stream",
     "text": [
      "[Stage 0:>                                                          (0 + 1) / 1]\r"
     ]
    },
    {
     "name": "stdout",
     "output_type": "stream",
     "text": [
      "+------------------------------+-----+\n",
      "|nome                          |idade|\n",
      "+------------------------------+-----+\n",
      "|GISELLE PAULA GUIMARAES CASTRO|15   |\n",
      "|ELAINE GARCIA DE OLIVEIRA     |22   |\n",
      "|JOAO CARLOS ABNER DE LOURDES  |43   |\n",
      "|MARTA ZELI FERREIRA           |24   |\n",
      "|LAUDENETE WIGGERS ROEDER      |51   |\n",
      "+------------------------------+-----+\n",
      "\n"
     ]
    },
    {
     "name": "stderr",
     "output_type": "stream",
     "text": [
      "                                                                                \r"
     ]
    }
   ],
   "source": [
    "data = [\n",
    "    ('GISELLE PAULA GUIMARAES CASTRO', 15),\n",
    "    ('ELAINE GARCIA DE OLIVEIRA', 22),\n",
    "    ('JOAO CARLOS ABNER DE LOURDES', 43),\n",
    "    ('MARTA ZELI FERREIRA', 24),\n",
    "    ('LAUDENETE WIGGERS ROEDER', 51)\n",
    "]\n",
    "colNames = ['nome', 'idade']\n",
    "df = spark.createDataFrame(data, colNames)\n",
    "df.show(truncate=False)"
   ]
  },
  {
   "cell_type": "code",
   "execution_count": 5,
   "metadata": {},
   "outputs": [
    {
     "name": "stdout",
     "output_type": "stream",
     "text": [
      "+-----------------+-----+\n",
      "|ident            |idade|\n",
      "+-----------------+-----+\n",
      "|CASTRO, GISELLE  |15   |\n",
      "|OLIVEIRA, ELAINE |22   |\n",
      "|LOURDES, JOAO    |43   |\n",
      "|FERREIRA, MARTA  |24   |\n",
      "|ROEDER, LAUDENETE|51   |\n",
      "+-----------------+-----+\n",
      "\n"
     ]
    }
   ],
   "source": [
    "df \\\n",
    "    .select(\n",
    "        f.concat_ws(\n",
    "            ', ', \n",
    "            f.substring_index('nome', ' ', -1), \n",
    "            f.substring_index('nome', ' ', 1)\n",
    "        ).alias('ident'), \n",
    "        'idade') \\\n",
    "    .show(truncate=False)"
   ]
  },
  {
   "cell_type": "code",
   "execution_count": 7,
   "metadata": {},
   "outputs": [
    {
     "name": "stdout",
     "output_type": "stream",
     "text": [
      "+---------------------+---+----+\n",
      "|nome                 |mes|ano |\n",
      "+---------------------+---+----+\n",
      "|CARMINA RABELO       |4  |2010|\n",
      "|HERONDINA PEREIRA    |6  |2009|\n",
      "|IRANI DOS SANTOS     |12 |2010|\n",
      "|JOAO BOSCO DA FONSECA|3  |2009|\n",
      "|CARLITO SOUZA        |1  |2010|\n",
      "|WALTER DIAS          |9  |2009|\n",
      "|BRENO VENTUROSO      |1  |2009|\n",
      "|ADELINA TEIXEIRA     |5  |2009|\n",
      "|ELIO SILVA           |7  |2010|\n",
      "|DENIS FONSECA        |6  |2010|\n",
      "+---------------------+---+----+\n",
      "\n"
     ]
    }
   ],
   "source": [
    "data1 = [\n",
    "    ('CARMINA RABELO', 4, 2010), \n",
    "    ('HERONDINA PEREIRA', 6, 2009), \n",
    "    ('IRANI DOS SANTOS', 12, 2010), \n",
    "    ('JOAO BOSCO DA FONSECA', 3, 2009), \n",
    "    ('CARLITO SOUZA', 1, 2010), \n",
    "    ('WALTER DIAS', 9, 2009), \n",
    "    ('BRENO VENTUROSO', 1, 2009), \n",
    "    ('ADELINA TEIXEIRA', 5, 2009), \n",
    "    ('ELIO SILVA', 7, 2010), \n",
    "    ('DENIS FONSECA', 6, 2010)\n",
    "]\n",
    "colNames1 = ['nome', 'mes', 'ano']\n",
    "df = spark.createDataFrame(data1, colNames)\n",
    "df.show(truncate=False)"
   ]
  },
  {
   "cell_type": "code",
   "execution_count": 11,
   "metadata": {},
   "outputs": [
    {
     "name": "stdout",
     "output_type": "stream",
     "text": [
      "+---------------------+---+----+\n",
      "|nome                 |mes|ano |\n",
      "+---------------------+---+----+\n",
      "|IRANI DOS SANTOS     |12 |2010|\n",
      "|ELIO SILVA           |7  |2010|\n",
      "|DENIS FONSECA        |6  |2010|\n",
      "|CARMINA RABELO       |4  |2010|\n",
      "|CARLITO SOUZA        |1  |2010|\n",
      "|WALTER DIAS          |9  |2009|\n",
      "|HERONDINA PEREIRA    |6  |2009|\n",
      "|ADELINA TEIXEIRA     |5  |2009|\n",
      "|JOAO BOSCO DA FONSECA|3  |2009|\n",
      "|BRENO VENTUROSO      |1  |2009|\n",
      "+---------------------+---+----+\n",
      "\n"
     ]
    }
   ],
   "source": [
    "df.select('*').orderBy(['ano', 'mes'], ascending=[False, False]).show(truncate=False)"
   ]
  },
  {
   "cell_type": "code",
   "execution_count": 12,
   "metadata": {},
   "outputs": [
    {
     "name": "stdout",
     "output_type": "stream",
     "text": [
      "+---------------------+---+----+\n",
      "|nome                 |mes|ano |\n",
      "+---------------------+---+----+\n",
      "|IRANI DOS SANTOS     |12 |2010|\n",
      "|ELIO SILVA           |7  |2010|\n",
      "|DENIS FONSECA        |6  |2010|\n",
      "|CARMINA RABELO       |4  |2010|\n",
      "|CARLITO SOUZA        |1  |2010|\n",
      "|WALTER DIAS          |9  |2009|\n",
      "|HERONDINA PEREIRA    |6  |2009|\n",
      "|ADELINA TEIXEIRA     |5  |2009|\n",
      "|JOAO BOSCO DA FONSECA|3  |2009|\n",
      "|BRENO VENTUROSO      |1  |2009|\n",
      "+---------------------+---+----+\n",
      "\n"
     ]
    }
   ],
   "source": [
    "df.select('*').orderBy(['ano', 'mes'], ascending=[False, False]).show(truncate=False)"
   ]
  }
 ],
 "metadata": {
  "interpreter": {
   "hash": "7e65be7c203517d8f17909775426de861a05e11d1f84230f0905cec11d30c2e8"
  },
  "kernelspec": {
   "display_name": "Python 3.8.10 ('coursepyspark-ufaD9Cly')",
   "language": "python",
   "name": "python3"
  },
  "language_info": {
   "codemirror_mode": {
    "name": "ipython",
    "version": 3
   },
   "file_extension": ".py",
   "mimetype": "text/x-python",
   "name": "python",
   "nbconvert_exporter": "python",
   "pygments_lexer": "ipython3",
   "version": "3.8.10"
  },
  "orig_nbformat": 4
 },
 "nbformat": 4,
 "nbformat_minor": 2
}

{
 "cells": [
  {
   "cell_type": "code",
   "execution_count": 15,
   "metadata": {},
   "outputs": [
    {
     "data": {
      "text/html": [
       "\n",
       "            <div>\n",
       "                <p><b>SparkSession - in-memory</b></p>\n",
       "                \n",
       "        <div>\n",
       "            <p><b>SparkContext</b></p>\n",
       "\n",
       "            <p><a href=\"http://192.168.3.3:4041\">Spark UI</a></p>\n",
       "\n",
       "            <dl>\n",
       "              <dt>Version</dt>\n",
       "                <dd><code>v3.2.1</code></dd>\n",
       "              <dt>Master</dt>\n",
       "                <dd><code>local[*]</code></dd>\n",
       "              <dt>AppName</dt>\n",
       "                <dd><code>create temp view</code></dd>\n",
       "            </dl>\n",
       "        </div>\n",
       "        \n",
       "            </div>\n",
       "        "
      ],
      "text/plain": [
       "<pyspark.sql.session.SparkSession at 0x7f6e241e0340>"
      ]
     },
     "execution_count": 15,
     "metadata": {},
     "output_type": "execute_result"
    }
   ],
   "source": [
    "from pyspark.sql import SparkSession\n",
    "\n",
    "spark = SparkSession.builder \\\n",
    "    .master('local[*]') \\\n",
    "    .appName(\"create temp view\") \\\n",
    "    .getOrCreate()\n",
    "spark"
   ]
  },
  {
   "cell_type": "code",
   "execution_count": 16,
   "metadata": {},
   "outputs": [],
   "source": [
    "# imports and path\n",
    "from pyspark.sql.types import DoubleType, StringType\n",
    "from pyspark.sql import functions as func\n",
    "\n",
    "path = \"../datasets/alura/01/empresas/\""
   ]
  },
  {
   "cell_type": "code",
   "execution_count": 17,
   "metadata": {},
   "outputs": [
    {
     "name": "stderr",
     "output_type": "stream",
     "text": [
      "                                                                                \r"
     ]
    }
   ],
   "source": [
    "emp = spark.read.csv(path, sep=';', inferSchema=True)"
   ]
  },
  {
   "cell_type": "code",
   "execution_count": 18,
   "metadata": {},
   "outputs": [],
   "source": [
    "empresasColNames = ['cnpj_basico', 'razao_social_nome_empresarial', 'natureza_juridica', 'qualificacao_do_responsavel', 'capital_social_da_empresa', 'porte_da_empresa', 'ente_federativo_responsavel']"
   ]
  },
  {
   "cell_type": "code",
   "execution_count": 19,
   "metadata": {},
   "outputs": [],
   "source": [
    "for idx, name in enumerate(empresasColNames):\n",
    "    emp = emp.withColumnRenamed(f\"_c{idx}\", name)"
   ]
  },
  {
   "cell_type": "code",
   "execution_count": 20,
   "metadata": {},
   "outputs": [
    {
     "data": {
      "text/html": [
       "<div>\n",
       "<style scoped>\n",
       "    .dataframe tbody tr th:only-of-type {\n",
       "        vertical-align: middle;\n",
       "    }\n",
       "\n",
       "    .dataframe tbody tr th {\n",
       "        vertical-align: top;\n",
       "    }\n",
       "\n",
       "    .dataframe thead th {\n",
       "        text-align: right;\n",
       "    }\n",
       "</style>\n",
       "<table border=\"1\" class=\"dataframe\">\n",
       "  <thead>\n",
       "    <tr style=\"text-align: right;\">\n",
       "      <th></th>\n",
       "      <th>cnpj_basico</th>\n",
       "      <th>razao_social_nome_empresarial</th>\n",
       "      <th>natureza_juridica</th>\n",
       "      <th>qualificacao_do_responsavel</th>\n",
       "      <th>capital_social_da_empresa</th>\n",
       "      <th>porte_da_empresa</th>\n",
       "      <th>ente_federativo_responsavel</th>\n",
       "    </tr>\n",
       "  </thead>\n",
       "  <tbody>\n",
       "    <tr>\n",
       "      <th>0</th>\n",
       "      <td>306</td>\n",
       "      <td>FRANCAMAR REFRIGERACAO TECNICA S/C LTDA</td>\n",
       "      <td>2240</td>\n",
       "      <td>49</td>\n",
       "      <td>0.00</td>\n",
       "      <td>1</td>\n",
       "      <td>None</td>\n",
       "    </tr>\n",
       "    <tr>\n",
       "      <th>1</th>\n",
       "      <td>1355</td>\n",
       "      <td>BRASILEIRO &amp; OLIVEIRA LTDA</td>\n",
       "      <td>2062</td>\n",
       "      <td>49</td>\n",
       "      <td>0.00</td>\n",
       "      <td>5</td>\n",
       "      <td>None</td>\n",
       "    </tr>\n",
       "    <tr>\n",
       "      <th>2</th>\n",
       "      <td>4820</td>\n",
       "      <td>REGISTRO DE IMOVEIS, TABELIONATO 1 DE NOTAS E ...</td>\n",
       "      <td>3034</td>\n",
       "      <td>32</td>\n",
       "      <td>0.00</td>\n",
       "      <td>5</td>\n",
       "      <td>None</td>\n",
       "    </tr>\n",
       "    <tr>\n",
       "      <th>3</th>\n",
       "      <td>5347</td>\n",
       "      <td>ROSELY APARECIDA MONTEIRO CALTABIANO FREITAS</td>\n",
       "      <td>2135</td>\n",
       "      <td>50</td>\n",
       "      <td>0.00</td>\n",
       "      <td>5</td>\n",
       "      <td>None</td>\n",
       "    </tr>\n",
       "    <tr>\n",
       "      <th>4</th>\n",
       "      <td>6846</td>\n",
       "      <td>BADU E FILHOS TECIDOS LTDA</td>\n",
       "      <td>2062</td>\n",
       "      <td>49</td>\n",
       "      <td>4000.00</td>\n",
       "      <td>1</td>\n",
       "      <td>None</td>\n",
       "    </tr>\n",
       "  </tbody>\n",
       "</table>\n",
       "</div>"
      ],
      "text/plain": [
       "   cnpj_basico                      razao_social_nome_empresarial  \\\n",
       "0          306            FRANCAMAR REFRIGERACAO TECNICA S/C LTDA   \n",
       "1         1355                         BRASILEIRO & OLIVEIRA LTDA   \n",
       "2         4820  REGISTRO DE IMOVEIS, TABELIONATO 1 DE NOTAS E ...   \n",
       "3         5347       ROSELY APARECIDA MONTEIRO CALTABIANO FREITAS   \n",
       "4         6846                         BADU E FILHOS TECIDOS LTDA   \n",
       "\n",
       "   natureza_juridica  qualificacao_do_responsavel capital_social_da_empresa  \\\n",
       "0               2240                           49                      0.00   \n",
       "1               2062                           49                      0.00   \n",
       "2               3034                           32                      0.00   \n",
       "3               2135                           50                      0.00   \n",
       "4               2062                           49                   4000.00   \n",
       "\n",
       "   porte_da_empresa ente_federativo_responsavel  \n",
       "0                 1                        None  \n",
       "1                 5                        None  \n",
       "2                 5                        None  \n",
       "3                 5                        None  \n",
       "4                 1                        None  "
      ]
     },
     "execution_count": 20,
     "metadata": {},
     "output_type": "execute_result"
    }
   ],
   "source": [
    "emp = emp.withColumn('capital_social_da_empresa', func.regexp_replace('capital_social_da_empresa', ',', '.'))\n",
    "emp.limit(5).toPandas()"
   ]
  },
  {
   "cell_type": "code",
   "execution_count": 21,
   "metadata": {},
   "outputs": [
    {
     "data": {
      "text/html": [
       "<div>\n",
       "<style scoped>\n",
       "    .dataframe tbody tr th:only-of-type {\n",
       "        vertical-align: middle;\n",
       "    }\n",
       "\n",
       "    .dataframe tbody tr th {\n",
       "        vertical-align: top;\n",
       "    }\n",
       "\n",
       "    .dataframe thead th {\n",
       "        text-align: right;\n",
       "    }\n",
       "</style>\n",
       "<table border=\"1\" class=\"dataframe\">\n",
       "  <thead>\n",
       "    <tr style=\"text-align: right;\">\n",
       "      <th></th>\n",
       "      <th>cnpj_basico</th>\n",
       "      <th>razao_social_nome_empresarial</th>\n",
       "      <th>natureza_juridica</th>\n",
       "      <th>qualificacao_do_responsavel</th>\n",
       "      <th>capital_social_da_empresa</th>\n",
       "      <th>porte_da_empresa</th>\n",
       "      <th>ente_federativo_responsavel</th>\n",
       "    </tr>\n",
       "  </thead>\n",
       "  <tbody>\n",
       "    <tr>\n",
       "      <th>0</th>\n",
       "      <td>306</td>\n",
       "      <td>FRANCAMAR REFRIGERACAO TECNICA S/C LTDA</td>\n",
       "      <td>2240</td>\n",
       "      <td>49</td>\n",
       "      <td>0.0</td>\n",
       "      <td>1</td>\n",
       "      <td>None</td>\n",
       "    </tr>\n",
       "    <tr>\n",
       "      <th>1</th>\n",
       "      <td>1355</td>\n",
       "      <td>BRASILEIRO &amp; OLIVEIRA LTDA</td>\n",
       "      <td>2062</td>\n",
       "      <td>49</td>\n",
       "      <td>0.0</td>\n",
       "      <td>5</td>\n",
       "      <td>None</td>\n",
       "    </tr>\n",
       "    <tr>\n",
       "      <th>2</th>\n",
       "      <td>4820</td>\n",
       "      <td>REGISTRO DE IMOVEIS, TABELIONATO 1 DE NOTAS E ...</td>\n",
       "      <td>3034</td>\n",
       "      <td>32</td>\n",
       "      <td>0.0</td>\n",
       "      <td>5</td>\n",
       "      <td>None</td>\n",
       "    </tr>\n",
       "    <tr>\n",
       "      <th>3</th>\n",
       "      <td>5347</td>\n",
       "      <td>ROSELY APARECIDA MONTEIRO CALTABIANO FREITAS</td>\n",
       "      <td>2135</td>\n",
       "      <td>50</td>\n",
       "      <td>0.0</td>\n",
       "      <td>5</td>\n",
       "      <td>None</td>\n",
       "    </tr>\n",
       "    <tr>\n",
       "      <th>4</th>\n",
       "      <td>6846</td>\n",
       "      <td>BADU E FILHOS TECIDOS LTDA</td>\n",
       "      <td>2062</td>\n",
       "      <td>49</td>\n",
       "      <td>4000.0</td>\n",
       "      <td>1</td>\n",
       "      <td>None</td>\n",
       "    </tr>\n",
       "  </tbody>\n",
       "</table>\n",
       "</div>"
      ],
      "text/plain": [
       "   cnpj_basico                      razao_social_nome_empresarial  \\\n",
       "0          306            FRANCAMAR REFRIGERACAO TECNICA S/C LTDA   \n",
       "1         1355                         BRASILEIRO & OLIVEIRA LTDA   \n",
       "2         4820  REGISTRO DE IMOVEIS, TABELIONATO 1 DE NOTAS E ...   \n",
       "3         5347       ROSELY APARECIDA MONTEIRO CALTABIANO FREITAS   \n",
       "4         6846                         BADU E FILHOS TECIDOS LTDA   \n",
       "\n",
       "   natureza_juridica  qualificacao_do_responsavel  capital_social_da_empresa  \\\n",
       "0               2240                           49                        0.0   \n",
       "1               2062                           49                        0.0   \n",
       "2               3034                           32                        0.0   \n",
       "3               2135                           50                        0.0   \n",
       "4               2062                           49                     4000.0   \n",
       "\n",
       "   porte_da_empresa ente_federativo_responsavel  \n",
       "0                 1                        None  \n",
       "1                 5                        None  \n",
       "2                 5                        None  \n",
       "3                 5                        None  \n",
       "4                 1                        None  "
      ]
     },
     "execution_count": 21,
     "metadata": {},
     "output_type": "execute_result"
    }
   ],
   "source": [
    "emp = emp.withColumn('capital_social_da_empresa', emp['capital_social_da_empresa'].cast(DoubleType()))\n",
    "emp.limit(5).toPandas()"
   ]
  },
  {
   "cell_type": "code",
   "execution_count": 22,
   "metadata": {},
   "outputs": [
    {
     "name": "stdout",
     "output_type": "stream",
     "text": [
      "+-----------+------------------------------------+-----------------+---------------------------+-------------------------+----------------+---------------------------+\n",
      "|cnpj_basico|razao_social_nome_empresarial       |natureza_juridica|qualificacao_do_responsavel|capital_social_da_empresa|porte_da_empresa|ente_federativo_responsavel|\n",
      "+-----------+------------------------------------+-----------------+---------------------------+-------------------------+----------------+---------------------------+\n",
      "|17350147   |ERIK MARCELO DOS SANTOS 42107848858 |2135             |50                         |50.0                     |1               |null                       |\n",
      "|17833214   |ALEXANDRE MACHADO LIMA 73750123772  |2135             |50                         |50.0                     |1               |null                       |\n",
      "|20860830   |YASMIN MOURA DA FONSECA 13457709793 |2135             |50                         |50.0                     |1               |null                       |\n",
      "|22242856   |JOAO CESAR MESSIAS 08707149883      |2135             |50                         |50.0                     |1               |null                       |\n",
      "|23238540   |EVERTON ROBERTO DA SILVA 42101963809|2135             |50                         |50.0                     |1               |null                       |\n",
      "+-----------+------------------------------------+-----------------+---------------------------+-------------------------+----------------+---------------------------+\n",
      "only showing top 5 rows\n",
      "\n"
     ]
    }
   ],
   "source": [
    "emp.where(\"capital_social_da_empresa==50\").show(5, False)"
   ]
  },
  {
   "cell_type": "code",
   "execution_count": 23,
   "metadata": {},
   "outputs": [
    {
     "name": "stderr",
     "output_type": "stream",
     "text": [
      "[Stage 21:=============================================>           (8 + 2) / 10]\r"
     ]
    },
    {
     "name": "stdout",
     "output_type": "stream",
     "text": [
      "+----------------+--------------------+------------------------+----------+\n",
      "|porte_da_empresa|capital_social_medio|capital_social_medio_max|frequencia|\n",
      "+----------------+--------------------+------------------------+----------+\n",
      "|            null|    8.35421888053467|                 50000.0|      5985|\n",
      "|               1|  339994.53313507047|        3.22014670262E11|   3129043|\n",
      "|               3|  2601001.7677092687|        2.52006125741E11|    115151|\n",
      "|               5|   708660.4208249793|                  5.0E10|   1335500|\n",
      "+----------------+--------------------+------------------------+----------+\n",
      "\n"
     ]
    },
    {
     "name": "stderr",
     "output_type": "stream",
     "text": [
      "                                                                                \r"
     ]
    }
   ],
   "source": [
    "emp.select('cnpj_basico', 'porte_da_empresa', 'capital_social_da_empresa')\\\n",
    "    .groupBy(\"porte_da_empresa\")\\\n",
    "    .agg(\n",
    "        func.avg(\"capital_social_da_empresa\").alias(\"capital_social_medio\"),\n",
    "        func.max(\"capital_social_da_empresa\").alias(\"capital_social_medio_max\"),\n",
    "        func.count(\"cnpj_basico\").alias(\"frequencia\")\n",
    "    )\\\n",
    "    .orderBy('porte_da_empresa', ascending=True)\\\n",
    "    .show()"
   ]
  },
  {
   "cell_type": "code",
   "execution_count": 24,
   "metadata": {},
   "outputs": [
    {
     "name": "stderr",
     "output_type": "stream",
     "text": [
      "[Stage 24:=============================================>           (8 + 2) / 10]\r"
     ]
    },
    {
     "name": "stdout",
     "output_type": "stream",
     "text": [
      "+-------+-------------------------+\n",
      "|summary|capital_social_da_empresa|\n",
      "+-------+-------------------------+\n",
      "|   mean|        503694.5478542674|\n",
      "| stddev|     2.1118691490537727E8|\n",
      "+-------+-------------------------+\n",
      "\n"
     ]
    },
    {
     "name": "stderr",
     "output_type": "stream",
     "text": [
      "                                                                                \r"
     ]
    }
   ],
   "source": [
    "emp.select('capital_social_da_empresa')\\\n",
    "   .summary(\"mean\", \"stddev\")\\\n",
    "   .show()"
   ]
  },
  {
   "cell_type": "code",
   "execution_count": 25,
   "metadata": {},
   "outputs": [],
   "source": [
    "emp.createOrReplaceTempView(\"empresasView\")"
   ]
  },
  {
   "cell_type": "code",
   "execution_count": 26,
   "metadata": {},
   "outputs": [
    {
     "data": {
      "text/html": [
       "<div>\n",
       "<style scoped>\n",
       "    .dataframe tbody tr th:only-of-type {\n",
       "        vertical-align: middle;\n",
       "    }\n",
       "\n",
       "    .dataframe tbody tr th {\n",
       "        vertical-align: top;\n",
       "    }\n",
       "\n",
       "    .dataframe thead th {\n",
       "        text-align: right;\n",
       "    }\n",
       "</style>\n",
       "<table border=\"1\" class=\"dataframe\">\n",
       "  <thead>\n",
       "    <tr style=\"text-align: right;\">\n",
       "      <th></th>\n",
       "      <th>cnpj_basico</th>\n",
       "      <th>razao_social_nome_empresarial</th>\n",
       "      <th>natureza_juridica</th>\n",
       "      <th>qualificacao_do_responsavel</th>\n",
       "      <th>capital_social_da_empresa</th>\n",
       "      <th>porte_da_empresa</th>\n",
       "      <th>ente_federativo_responsavel</th>\n",
       "    </tr>\n",
       "  </thead>\n",
       "  <tbody>\n",
       "    <tr>\n",
       "      <th>0</th>\n",
       "      <td>306</td>\n",
       "      <td>FRANCAMAR REFRIGERACAO TECNICA S/C LTDA</td>\n",
       "      <td>2240</td>\n",
       "      <td>49</td>\n",
       "      <td>0.0</td>\n",
       "      <td>1</td>\n",
       "      <td>None</td>\n",
       "    </tr>\n",
       "    <tr>\n",
       "      <th>1</th>\n",
       "      <td>1355</td>\n",
       "      <td>BRASILEIRO &amp; OLIVEIRA LTDA</td>\n",
       "      <td>2062</td>\n",
       "      <td>49</td>\n",
       "      <td>0.0</td>\n",
       "      <td>5</td>\n",
       "      <td>None</td>\n",
       "    </tr>\n",
       "    <tr>\n",
       "      <th>2</th>\n",
       "      <td>4820</td>\n",
       "      <td>REGISTRO DE IMOVEIS, TABELIONATO 1 DE NOTAS E ...</td>\n",
       "      <td>3034</td>\n",
       "      <td>32</td>\n",
       "      <td>0.0</td>\n",
       "      <td>5</td>\n",
       "      <td>None</td>\n",
       "    </tr>\n",
       "    <tr>\n",
       "      <th>3</th>\n",
       "      <td>5347</td>\n",
       "      <td>ROSELY APARECIDA MONTEIRO CALTABIANO FREITAS</td>\n",
       "      <td>2135</td>\n",
       "      <td>50</td>\n",
       "      <td>0.0</td>\n",
       "      <td>5</td>\n",
       "      <td>None</td>\n",
       "    </tr>\n",
       "    <tr>\n",
       "      <th>4</th>\n",
       "      <td>6846</td>\n",
       "      <td>BADU E FILHOS TECIDOS LTDA</td>\n",
       "      <td>2062</td>\n",
       "      <td>49</td>\n",
       "      <td>4000.0</td>\n",
       "      <td>1</td>\n",
       "      <td>None</td>\n",
       "    </tr>\n",
       "  </tbody>\n",
       "</table>\n",
       "</div>"
      ],
      "text/plain": [
       "   cnpj_basico                      razao_social_nome_empresarial  \\\n",
       "0          306            FRANCAMAR REFRIGERACAO TECNICA S/C LTDA   \n",
       "1         1355                         BRASILEIRO & OLIVEIRA LTDA   \n",
       "2         4820  REGISTRO DE IMOVEIS, TABELIONATO 1 DE NOTAS E ...   \n",
       "3         5347       ROSELY APARECIDA MONTEIRO CALTABIANO FREITAS   \n",
       "4         6846                         BADU E FILHOS TECIDOS LTDA   \n",
       "\n",
       "   natureza_juridica  qualificacao_do_responsavel  capital_social_da_empresa  \\\n",
       "0               2240                           49                        0.0   \n",
       "1               2062                           49                        0.0   \n",
       "2               3034                           32                        0.0   \n",
       "3               2135                           50                        0.0   \n",
       "4               2062                           49                     4000.0   \n",
       "\n",
       "   porte_da_empresa ente_federativo_responsavel  \n",
       "0                 1                        None  \n",
       "1                 5                        None  \n",
       "2                 5                        None  \n",
       "3                 5                        None  \n",
       "4                 1                        None  "
      ]
     },
     "execution_count": 26,
     "metadata": {},
     "output_type": "execute_result"
    }
   ],
   "source": [
    "res = spark.sql(\"SELECT * FROM empresasView\")\n",
    "res.limit(5).toPandas()"
   ]
  },
  {
   "cell_type": "code",
   "execution_count": 27,
   "metadata": {},
   "outputs": [
    {
     "data": {
      "text/html": [
       "<div>\n",
       "<style scoped>\n",
       "    .dataframe tbody tr th:only-of-type {\n",
       "        vertical-align: middle;\n",
       "    }\n",
       "\n",
       "    .dataframe tbody tr th {\n",
       "        vertical-align: top;\n",
       "    }\n",
       "\n",
       "    .dataframe thead th {\n",
       "        text-align: right;\n",
       "    }\n",
       "</style>\n",
       "<table border=\"1\" class=\"dataframe\">\n",
       "  <thead>\n",
       "    <tr style=\"text-align: right;\">\n",
       "      <th></th>\n",
       "      <th>cnpj_basico</th>\n",
       "      <th>razao_social_nome_empresarial</th>\n",
       "      <th>natureza_juridica</th>\n",
       "      <th>qualificacao_do_responsavel</th>\n",
       "      <th>capital_social_da_empresa</th>\n",
       "      <th>porte_da_empresa</th>\n",
       "      <th>ente_federativo_responsavel</th>\n",
       "    </tr>\n",
       "  </thead>\n",
       "  <tbody>\n",
       "    <tr>\n",
       "      <th>0</th>\n",
       "      <td>17350147</td>\n",
       "      <td>ERIK MARCELO DOS SANTOS 42107848858</td>\n",
       "      <td>2135</td>\n",
       "      <td>50</td>\n",
       "      <td>50.0</td>\n",
       "      <td>1</td>\n",
       "      <td>None</td>\n",
       "    </tr>\n",
       "    <tr>\n",
       "      <th>1</th>\n",
       "      <td>17833214</td>\n",
       "      <td>ALEXANDRE MACHADO LIMA 73750123772</td>\n",
       "      <td>2135</td>\n",
       "      <td>50</td>\n",
       "      <td>50.0</td>\n",
       "      <td>1</td>\n",
       "      <td>None</td>\n",
       "    </tr>\n",
       "    <tr>\n",
       "      <th>2</th>\n",
       "      <td>20860830</td>\n",
       "      <td>YASMIN MOURA DA FONSECA 13457709793</td>\n",
       "      <td>2135</td>\n",
       "      <td>50</td>\n",
       "      <td>50.0</td>\n",
       "      <td>1</td>\n",
       "      <td>None</td>\n",
       "    </tr>\n",
       "    <tr>\n",
       "      <th>3</th>\n",
       "      <td>22242856</td>\n",
       "      <td>JOAO CESAR MESSIAS 08707149883</td>\n",
       "      <td>2135</td>\n",
       "      <td>50</td>\n",
       "      <td>50.0</td>\n",
       "      <td>1</td>\n",
       "      <td>None</td>\n",
       "    </tr>\n",
       "    <tr>\n",
       "      <th>4</th>\n",
       "      <td>23238540</td>\n",
       "      <td>EVERTON ROBERTO DA SILVA 42101963809</td>\n",
       "      <td>2135</td>\n",
       "      <td>50</td>\n",
       "      <td>50.0</td>\n",
       "      <td>1</td>\n",
       "      <td>None</td>\n",
       "    </tr>\n",
       "  </tbody>\n",
       "</table>\n",
       "</div>"
      ],
      "text/plain": [
       "   cnpj_basico         razao_social_nome_empresarial  natureza_juridica  \\\n",
       "0     17350147   ERIK MARCELO DOS SANTOS 42107848858               2135   \n",
       "1     17833214    ALEXANDRE MACHADO LIMA 73750123772               2135   \n",
       "2     20860830   YASMIN MOURA DA FONSECA 13457709793               2135   \n",
       "3     22242856        JOAO CESAR MESSIAS 08707149883               2135   \n",
       "4     23238540  EVERTON ROBERTO DA SILVA 42101963809               2135   \n",
       "\n",
       "   qualificacao_do_responsavel  capital_social_da_empresa  porte_da_empresa  \\\n",
       "0                           50                       50.0                 1   \n",
       "1                           50                       50.0                 1   \n",
       "2                           50                       50.0                 1   \n",
       "3                           50                       50.0                 1   \n",
       "4                           50                       50.0                 1   \n",
       "\n",
       "  ente_federativo_responsavel  \n",
       "0                        None  \n",
       "1                        None  \n",
       "2                        None  \n",
       "3                        None  \n",
       "4                        None  "
      ]
     },
     "execution_count": 27,
     "metadata": {},
     "output_type": "execute_result"
    }
   ],
   "source": [
    "res = spark.sql(\"\"\"\n",
    "                SELECT * FROM empresasView WHERE capital_social_da_empresa = 50\n",
    "                \"\"\")\n",
    "res.limit(5).toPandas()"
   ]
  },
  {
   "cell_type": "code",
   "execution_count": 28,
   "metadata": {},
   "outputs": [
    {
     "name": "stderr",
     "output_type": "stream",
     "text": [
      "                                                                                \r"
     ]
    },
    {
     "data": {
      "text/html": [
       "<div>\n",
       "<style scoped>\n",
       "    .dataframe tbody tr th:only-of-type {\n",
       "        vertical-align: middle;\n",
       "    }\n",
       "\n",
       "    .dataframe tbody tr th {\n",
       "        vertical-align: top;\n",
       "    }\n",
       "\n",
       "    .dataframe thead th {\n",
       "        text-align: right;\n",
       "    }\n",
       "</style>\n",
       "<table border=\"1\" class=\"dataframe\">\n",
       "  <thead>\n",
       "    <tr style=\"text-align: right;\">\n",
       "      <th></th>\n",
       "      <th>porte_da_empresa</th>\n",
       "      <th>Media</th>\n",
       "    </tr>\n",
       "  </thead>\n",
       "  <tbody>\n",
       "    <tr>\n",
       "      <th>0</th>\n",
       "      <td>NaN</td>\n",
       "      <td>8.354219e+00</td>\n",
       "    </tr>\n",
       "    <tr>\n",
       "      <th>1</th>\n",
       "      <td>1.0</td>\n",
       "      <td>3.399945e+05</td>\n",
       "    </tr>\n",
       "    <tr>\n",
       "      <th>2</th>\n",
       "      <td>3.0</td>\n",
       "      <td>2.601002e+06</td>\n",
       "    </tr>\n",
       "    <tr>\n",
       "      <th>3</th>\n",
       "      <td>5.0</td>\n",
       "      <td>7.086604e+05</td>\n",
       "    </tr>\n",
       "  </tbody>\n",
       "</table>\n",
       "</div>"
      ],
      "text/plain": [
       "   porte_da_empresa         Media\n",
       "0               NaN  8.354219e+00\n",
       "1               1.0  3.399945e+05\n",
       "2               3.0  2.601002e+06\n",
       "3               5.0  7.086604e+05"
      ]
     },
     "execution_count": 28,
     "metadata": {},
     "output_type": "execute_result"
    }
   ],
   "source": [
    "res = spark.sql(\"\"\"\n",
    "            SELECT porte_da_empresa, MEAN(capital_social_da_empresa) AS Media \n",
    "            FROM empresasView GROUP BY porte_da_empresa\n",
    "                \"\"\")\n",
    "res.limit(5).toPandas()"
   ]
  }
 ],
 "metadata": {
  "interpreter": {
   "hash": "7e65be7c203517d8f17909775426de861a05e11d1f84230f0905cec11d30c2e8"
  },
  "kernelspec": {
   "display_name": "Python 3.8.10 ('coursepyspark-ufaD9Cly')",
   "language": "python",
   "name": "python3"
  },
  "language_info": {
   "codemirror_mode": {
    "name": "ipython",
    "version": 3
   },
   "file_extension": ".py",
   "mimetype": "text/x-python",
   "name": "python",
   "nbconvert_exporter": "python",
   "pygments_lexer": "ipython3",
   "version": "3.8.10"
  },
  "orig_nbformat": 4
 },
 "nbformat": 4,
 "nbformat_minor": 2
}

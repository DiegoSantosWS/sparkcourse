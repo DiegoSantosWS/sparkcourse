{
 "cells": [
  {
   "cell_type": "code",
   "execution_count": 2,
   "metadata": {},
   "outputs": [],
   "source": [
    "import pyspark\n",
    "from pyspark.sql import SparkSession\n",
    "spark = SparkSession.builder.appName(\"SearchandF\").getOrCreate()"
   ]
  },
  {
   "cell_type": "code",
   "execution_count": 3,
   "metadata": {},
   "outputs": [
    {
     "data": {
      "text/html": [
       "\n",
       "            <div>\n",
       "                <p><b>SparkSession - in-memory</b></p>\n",
       "                \n",
       "        <div>\n",
       "            <p><b>SparkContext</b></p>\n",
       "\n",
       "            <p><a href=\"http://192.168.3.3:4046\">Spark UI</a></p>\n",
       "\n",
       "            <dl>\n",
       "              <dt>Version</dt>\n",
       "                <dd><code>v3.2.1</code></dd>\n",
       "              <dt>Master</dt>\n",
       "                <dd><code>local[*]</code></dd>\n",
       "              <dt>AppName</dt>\n",
       "                <dd><code>SearchandF</code></dd>\n",
       "            </dl>\n",
       "        </div>\n",
       "        \n",
       "            </div>\n",
       "        "
      ],
      "text/plain": [
       "<pyspark.sql.session.SparkSession at 0x7f5f27384310>"
      ]
     },
     "execution_count": 3,
     "metadata": {},
     "output_type": "execute_result"
    }
   ],
   "source": [
    "spark"
   ]
  },
  {
   "cell_type": "code",
   "execution_count": 4,
   "metadata": {},
   "outputs": [
    {
     "name": "stderr",
     "output_type": "stream",
     "text": [
      "                                                                                \r"
     ]
    }
   ],
   "source": [
    "path = \"../datasets/\"\n",
    "\n",
    "fifa = spark.read.csv(path+'fifa19.csv', inferSchema=True, header=True)"
   ]
  },
  {
   "cell_type": "code",
   "execution_count": 5,
   "metadata": {},
   "outputs": [
    {
     "name": "stderr",
     "output_type": "stream",
     "text": [
      "22/04/24 22:00:14 WARN package: Truncated the string representation of a plan since it was too large. This behavior can be adjusted by setting 'spark.sql.debug.maxToStringFields'.\n"
     ]
    },
    {
     "data": {
      "text/html": [
       "<div>\n",
       "<style scoped>\n",
       "    .dataframe tbody tr th:only-of-type {\n",
       "        vertical-align: middle;\n",
       "    }\n",
       "\n",
       "    .dataframe tbody tr th {\n",
       "        vertical-align: top;\n",
       "    }\n",
       "\n",
       "    .dataframe thead th {\n",
       "        text-align: right;\n",
       "    }\n",
       "</style>\n",
       "<table border=\"1\" class=\"dataframe\">\n",
       "  <thead>\n",
       "    <tr style=\"text-align: right;\">\n",
       "      <th></th>\n",
       "      <th>ID</th>\n",
       "      <th>Name</th>\n",
       "      <th>Age</th>\n",
       "      <th>Photo</th>\n",
       "      <th>Nationality</th>\n",
       "      <th>Flag</th>\n",
       "      <th>Overall</th>\n",
       "      <th>Potential</th>\n",
       "      <th>Club</th>\n",
       "      <th>Club Logo</th>\n",
       "      <th>...</th>\n",
       "      <th>Composure</th>\n",
       "      <th>Marking</th>\n",
       "      <th>StandingTackle</th>\n",
       "      <th>SlidingTackle</th>\n",
       "      <th>GKDiving</th>\n",
       "      <th>GKHandling</th>\n",
       "      <th>GKKicking</th>\n",
       "      <th>GKPositioning</th>\n",
       "      <th>GKReflexes</th>\n",
       "      <th>Release Clause</th>\n",
       "    </tr>\n",
       "  </thead>\n",
       "  <tbody>\n",
       "    <tr>\n",
       "      <th>0</th>\n",
       "      <td>0</td>\n",
       "      <td>158023</td>\n",
       "      <td>L. Messi</td>\n",
       "      <td>31</td>\n",
       "      <td>https://cdn.sofifa.org/players/4/19/158023.png</td>\n",
       "      <td>Argentina</td>\n",
       "      <td>https://cdn.sofifa.org/flags/52.png</td>\n",
       "      <td>94</td>\n",
       "      <td>94</td>\n",
       "      <td>FC Barcelona</td>\n",
       "      <td>...</td>\n",
       "      <td>75</td>\n",
       "      <td>96</td>\n",
       "      <td>33</td>\n",
       "      <td>28</td>\n",
       "      <td>26</td>\n",
       "      <td>6</td>\n",
       "      <td>11</td>\n",
       "      <td>15</td>\n",
       "      <td>14</td>\n",
       "      <td>8</td>\n",
       "    </tr>\n",
       "    <tr>\n",
       "      <th>1</th>\n",
       "      <td>1</td>\n",
       "      <td>20801</td>\n",
       "      <td>Cristiano Ronaldo</td>\n",
       "      <td>33</td>\n",
       "      <td>https://cdn.sofifa.org/players/4/19/20801.png</td>\n",
       "      <td>Portugal</td>\n",
       "      <td>https://cdn.sofifa.org/flags/38.png</td>\n",
       "      <td>94</td>\n",
       "      <td>94</td>\n",
       "      <td>Juventus</td>\n",
       "      <td>...</td>\n",
       "      <td>85</td>\n",
       "      <td>95</td>\n",
       "      <td>28</td>\n",
       "      <td>31</td>\n",
       "      <td>23</td>\n",
       "      <td>7</td>\n",
       "      <td>11</td>\n",
       "      <td>15</td>\n",
       "      <td>14</td>\n",
       "      <td>11</td>\n",
       "    </tr>\n",
       "    <tr>\n",
       "      <th>2</th>\n",
       "      <td>2</td>\n",
       "      <td>190871</td>\n",
       "      <td>Neymar Jr</td>\n",
       "      <td>26</td>\n",
       "      <td>https://cdn.sofifa.org/players/4/19/190871.png</td>\n",
       "      <td>Brazil</td>\n",
       "      <td>https://cdn.sofifa.org/flags/54.png</td>\n",
       "      <td>92</td>\n",
       "      <td>93</td>\n",
       "      <td>Paris Saint-Germain</td>\n",
       "      <td>...</td>\n",
       "      <td>81</td>\n",
       "      <td>94</td>\n",
       "      <td>27</td>\n",
       "      <td>24</td>\n",
       "      <td>33</td>\n",
       "      <td>9</td>\n",
       "      <td>9</td>\n",
       "      <td>15</td>\n",
       "      <td>15</td>\n",
       "      <td>11</td>\n",
       "    </tr>\n",
       "    <tr>\n",
       "      <th>3</th>\n",
       "      <td>3</td>\n",
       "      <td>193080</td>\n",
       "      <td>De Gea</td>\n",
       "      <td>27</td>\n",
       "      <td>https://cdn.sofifa.org/players/4/19/193080.png</td>\n",
       "      <td>Spain</td>\n",
       "      <td>https://cdn.sofifa.org/flags/45.png</td>\n",
       "      <td>91</td>\n",
       "      <td>93</td>\n",
       "      <td>Manchester United</td>\n",
       "      <td>...</td>\n",
       "      <td>40</td>\n",
       "      <td>68</td>\n",
       "      <td>15</td>\n",
       "      <td>21</td>\n",
       "      <td>13</td>\n",
       "      <td>90</td>\n",
       "      <td>85</td>\n",
       "      <td>87</td>\n",
       "      <td>88</td>\n",
       "      <td>94</td>\n",
       "    </tr>\n",
       "  </tbody>\n",
       "</table>\n",
       "<p>4 rows × 88 columns</p>\n",
       "</div>"
      ],
      "text/plain": [
       "   ID    Name                Age  Photo  \\\n",
       "0   0  158023           L. Messi     31   \n",
       "1   1   20801  Cristiano Ronaldo     33   \n",
       "2   2  190871          Neymar Jr     26   \n",
       "3   3  193080             De Gea     27   \n",
       "\n",
       "                                      Nationality       Flag  \\\n",
       "0  https://cdn.sofifa.org/players/4/19/158023.png  Argentina   \n",
       "1   https://cdn.sofifa.org/players/4/19/20801.png   Portugal   \n",
       "2  https://cdn.sofifa.org/players/4/19/190871.png     Brazil   \n",
       "3  https://cdn.sofifa.org/players/4/19/193080.png      Spain   \n",
       "\n",
       "                               Overall  Potential  Club            Club Logo  \\\n",
       "0  https://cdn.sofifa.org/flags/52.png         94    94         FC Barcelona   \n",
       "1  https://cdn.sofifa.org/flags/38.png         94    94             Juventus   \n",
       "2  https://cdn.sofifa.org/flags/54.png         92    93  Paris Saint-Germain   \n",
       "3  https://cdn.sofifa.org/flags/45.png         91    93    Manchester United   \n",
       "\n",
       "   ... Composure Marking StandingTackle  SlidingTackle GKDiving  GKHandling  \\\n",
       "0  ...        75      96             33             28       26           6   \n",
       "1  ...        85      95             28             31       23           7   \n",
       "2  ...        81      94             27             24       33           9   \n",
       "3  ...        40      68             15             21       13          90   \n",
       "\n",
       "   GKKicking  GKPositioning GKReflexes Release Clause  \n",
       "0         11             15         14              8  \n",
       "1         11             15         14             11  \n",
       "2          9             15         15             11  \n",
       "3         85             87         88             94  \n",
       "\n",
       "[4 rows x 88 columns]"
      ]
     },
     "execution_count": 5,
     "metadata": {},
     "output_type": "execute_result"
    }
   ],
   "source": [
    "fifa.limit(4).toPandas()"
   ]
  },
  {
   "cell_type": "code",
   "execution_count": 6,
   "metadata": {},
   "outputs": [
    {
     "name": "stdout",
     "output_type": "stream",
     "text": [
      "root\n",
      " |-- ID: integer (nullable = true)\n",
      " |-- Name: integer (nullable = true)\n",
      " |-- Age: string (nullable = true)\n",
      " |-- Photo: integer (nullable = true)\n",
      " |-- Nationality: string (nullable = true)\n",
      " |-- Flag: string (nullable = true)\n",
      " |-- Overall: string (nullable = true)\n",
      " |-- Potential: integer (nullable = true)\n",
      " |-- Club: integer (nullable = true)\n",
      " |-- Club Logo: string (nullable = true)\n",
      " |-- Value: string (nullable = true)\n",
      " |-- Wage: string (nullable = true)\n",
      " |-- Special: string (nullable = true)\n",
      " |-- Preferred Foot: integer (nullable = true)\n",
      " |-- International Reputation: string (nullable = true)\n",
      " |-- Weak Foot: integer (nullable = true)\n",
      " |-- Skill Moves: integer (nullable = true)\n",
      " |-- Work Rate: integer (nullable = true)\n",
      " |-- Body Type: string (nullable = true)\n",
      " |-- Real Face: string (nullable = true)\n",
      " |-- Position: string (nullable = true)\n",
      " |-- Jersey Number: string (nullable = true)\n",
      " |-- Joined: integer (nullable = true)\n",
      " |-- Loaned From: string (nullable = true)\n",
      " |-- Contract Valid Until: string (nullable = true)\n",
      " |-- Height: string (nullable = true)\n",
      " |-- Weight: string (nullable = true)\n",
      " |-- LS: string (nullable = true)\n",
      " |-- ST: string (nullable = true)\n",
      " |-- RS: string (nullable = true)\n",
      " |-- LW: string (nullable = true)\n",
      " |-- LF: string (nullable = true)\n",
      " |-- CF: string (nullable = true)\n",
      " |-- RF: string (nullable = true)\n",
      " |-- RW: string (nullable = true)\n",
      " |-- LAM: string (nullable = true)\n",
      " |-- CAM: string (nullable = true)\n",
      " |-- RAM: string (nullable = true)\n",
      " |-- LM: string (nullable = true)\n",
      " |-- LCM: string (nullable = true)\n",
      " |-- CM: string (nullable = true)\n",
      " |-- RCM: string (nullable = true)\n",
      " |-- RM: string (nullable = true)\n",
      " |-- LWB: string (nullable = true)\n",
      " |-- LDM: string (nullable = true)\n",
      " |-- CDM: string (nullable = true)\n",
      " |-- RDM: string (nullable = true)\n",
      " |-- RWB: string (nullable = true)\n",
      " |-- LB: string (nullable = true)\n",
      " |-- LCB: string (nullable = true)\n",
      " |-- CB: string (nullable = true)\n",
      " |-- RCB: string (nullable = true)\n",
      " |-- RB: string (nullable = true)\n",
      " |-- Crossing: string (nullable = true)\n",
      " |-- Finishing: integer (nullable = true)\n",
      " |-- HeadingAccuracy: integer (nullable = true)\n",
      " |-- ShortPassing: integer (nullable = true)\n",
      " |-- Volleys: integer (nullable = true)\n",
      " |-- Dribbling: integer (nullable = true)\n",
      " |-- Curve: integer (nullable = true)\n",
      " |-- FKAccuracy: integer (nullable = true)\n",
      " |-- LongPassing: integer (nullable = true)\n",
      " |-- BallControl: integer (nullable = true)\n",
      " |-- Acceleration: integer (nullable = true)\n",
      " |-- SprintSpeed: integer (nullable = true)\n",
      " |-- Agility: integer (nullable = true)\n",
      " |-- Reactions: integer (nullable = true)\n",
      " |-- Balance: integer (nullable = true)\n",
      " |-- ShotPower: integer (nullable = true)\n",
      " |-- Jumping: integer (nullable = true)\n",
      " |-- Stamina: integer (nullable = true)\n",
      " |-- Strength: integer (nullable = true)\n",
      " |-- LongShots: integer (nullable = true)\n",
      " |-- Aggression: integer (nullable = true)\n",
      " |-- Interceptions: integer (nullable = true)\n",
      " |-- Positioning: integer (nullable = true)\n",
      " |-- Vision: integer (nullable = true)\n",
      " |-- Penalties: integer (nullable = true)\n",
      " |-- Composure: integer (nullable = true)\n",
      " |-- Marking: integer (nullable = true)\n",
      " |-- StandingTackle: integer (nullable = true)\n",
      " |-- SlidingTackle: integer (nullable = true)\n",
      " |-- GKDiving: integer (nullable = true)\n",
      " |-- GKHandling: integer (nullable = true)\n",
      " |-- GKKicking: integer (nullable = true)\n",
      " |-- GKPositioning: integer (nullable = true)\n",
      " |-- GKReflexes: integer (nullable = true)\n",
      " |-- Release Clause: integer (nullable = true)\n",
      "\n"
     ]
    }
   ],
   "source": [
    "fifa.printSchema()"
   ]
  },
  {
   "cell_type": "code",
   "execution_count": 7,
   "metadata": {},
   "outputs": [],
   "source": [
    "from pyspark.sql.functions import *"
   ]
  },
  {
   "cell_type": "code",
   "execution_count": 8,
   "metadata": {},
   "outputs": [
    {
     "name": "stdout",
     "output_type": "stream",
     "text": [
      "+----------------------------------------------+------+-----------------+-----+\n",
      "|Nationality                                   |Name  |Age              |Photo|\n",
      "+----------------------------------------------+------+-----------------+-----+\n",
      "|https://cdn.sofifa.org/players/4/19/158023.png|158023|L. Messi         |31   |\n",
      "|https://cdn.sofifa.org/players/4/19/20801.png |20801 |Cristiano Ronaldo|33   |\n",
      "|https://cdn.sofifa.org/players/4/19/190871.png|190871|Neymar Jr        |26   |\n",
      "|https://cdn.sofifa.org/players/4/19/193080.png|193080|De Gea           |27   |\n",
      "|https://cdn.sofifa.org/players/4/19/192985.png|192985|K. De Bruyne     |27   |\n",
      "+----------------------------------------------+------+-----------------+-----+\n",
      "only showing top 5 rows\n",
      "\n"
     ]
    }
   ],
   "source": [
    "fifa.select(['Nationality','Name', 'Age','Photo']).show(5,False)"
   ]
  },
  {
   "cell_type": "code",
   "execution_count": 9,
   "metadata": {},
   "outputs": [
    {
     "name": "stdout",
     "output_type": "stream",
     "text": [
      "+------+-------------+\n",
      "|  Name|          Age|\n",
      "+------+-------------+\n",
      "|228006|     A. Abang|\n",
      "|243896|A. Abdellaoui|\n",
      "|198076| A. Abdennour|\n",
      "|138698|      A. Abdi|\n",
      "|245438|A. Abdu Jaber|\n",
      "+------+-------------+\n",
      "only showing top 5 rows\n",
      "\n"
     ]
    }
   ],
   "source": [
    "fifa.select(['Name', 'Age']).orderBy(fifa['Age']).show(5)"
   ]
  },
  {
   "cell_type": "code",
   "execution_count": 10,
   "metadata": {},
   "outputs": [
    {
     "name": "stdout",
     "output_type": "stream",
     "text": [
      "+------+--------------+\n",
      "|  Name|           Age|\n",
      "+------+--------------+\n",
      "|220433| Óscar Whalley|\n",
      "|243558|Óscar Valentín|\n",
      "|208621|   Óscar Plano|\n",
      "|229865|  Óscar Pinchi|\n",
      "|246284|     Óscar Gil|\n",
      "+------+--------------+\n",
      "only showing top 5 rows\n",
      "\n"
     ]
    }
   ],
   "source": [
    "fifa.select(['Name', 'Age']).orderBy(fifa['Age'].desc()).show(5)"
   ]
  },
  {
   "cell_type": "code",
   "execution_count": 11,
   "metadata": {},
   "outputs": [
    {
     "name": "stdout",
     "output_type": "stream",
     "text": [
      "+----+----+\n",
      "|Name|Club|\n",
      "+----+----+\n",
      "+----+----+\n",
      "\n"
     ]
    }
   ],
   "source": [
    "fifa.select(['Name', 'Club']).where(fifa.Club.like(\"%Barcelona%\")).show(5)"
   ]
  },
  {
   "cell_type": "code",
   "execution_count": 12,
   "metadata": {},
   "outputs": [
    {
     "name": "stdout",
     "output_type": "stream",
     "text": [
      "+-----+---------+\n",
      "|Photo|extension|\n",
      "+-----+---------+\n",
      "|31   |31       |\n",
      "|33   |33       |\n",
      "|26   |26       |\n",
      "|27   |27       |\n",
      "|27   |27       |\n",
      "+-----+---------+\n",
      "only showing top 5 rows\n",
      "\n"
     ]
    }
   ],
   "source": [
    "fifa.select(\"Photo\", fifa.Photo.substr(-4,4).alias(\"extension\")).show(5, False)"
   ]
  },
  {
   "cell_type": "code",
   "execution_count": 13,
   "metadata": {},
   "outputs": [
    {
     "data": {
      "text/html": [
       "<div>\n",
       "<style scoped>\n",
       "    .dataframe tbody tr th:only-of-type {\n",
       "        vertical-align: middle;\n",
       "    }\n",
       "\n",
       "    .dataframe tbody tr th {\n",
       "        vertical-align: top;\n",
       "    }\n",
       "\n",
       "    .dataframe thead th {\n",
       "        text-align: right;\n",
       "    }\n",
       "</style>\n",
       "<table border=\"1\" class=\"dataframe\">\n",
       "  <thead>\n",
       "    <tr style=\"text-align: right;\">\n",
       "      <th></th>\n",
       "      <th>ID</th>\n",
       "      <th>Name</th>\n",
       "      <th>Age</th>\n",
       "      <th>Photo</th>\n",
       "      <th>Nationality</th>\n",
       "      <th>Flag</th>\n",
       "      <th>Overall</th>\n",
       "      <th>Potential</th>\n",
       "      <th>Club</th>\n",
       "      <th>Club Logo</th>\n",
       "      <th>...</th>\n",
       "      <th>Composure</th>\n",
       "      <th>Marking</th>\n",
       "      <th>StandingTackle</th>\n",
       "      <th>SlidingTackle</th>\n",
       "      <th>GKDiving</th>\n",
       "      <th>GKHandling</th>\n",
       "      <th>GKKicking</th>\n",
       "      <th>GKPositioning</th>\n",
       "      <th>GKReflexes</th>\n",
       "      <th>Release Clause</th>\n",
       "    </tr>\n",
       "  </thead>\n",
       "  <tbody>\n",
       "  </tbody>\n",
       "</table>\n",
       "<p>0 rows × 88 columns</p>\n",
       "</div>"
      ],
      "text/plain": [
       "Empty DataFrame\n",
       "Columns: [ID, Name, Age, Photo, Nationality, Flag, Overall, Potential, Club, Club Logo, Value, Wage, Special, Preferred Foot, International Reputation, Weak Foot, Skill Moves, Work Rate, Body Type, Real Face, Position, Jersey Number, Joined, Loaned From, Contract Valid Until, Height, Weight, LS, ST, RS, LW, LF, CF, RF, RW, LAM, CAM, RAM, LM, LCM, CM, RCM, RM, LWB, LDM, CDM, RDM, RWB, LB, LCB, CB, RCB, RB, Crossing, Finishing, HeadingAccuracy, ShortPassing, Volleys, Dribbling, Curve, FKAccuracy, LongPassing, BallControl, Acceleration, SprintSpeed, Agility, Reactions, Balance, ShotPower, Jumping, Stamina, Strength, LongShots, Aggression, Interceptions, Positioning, Vision, Penalties, Composure, Marking, StandingTackle, SlidingTackle, GKDiving, GKHandling, GKKicking, GKPositioning, GKReflexes, Release Clause]\n",
       "Index: []\n",
       "\n",
       "[0 rows x 88 columns]"
      ]
     },
     "execution_count": 13,
     "metadata": {},
     "output_type": "execute_result"
    }
   ],
   "source": [
    "fifa[fifa.Club.isin(\"FC Barcelona\", \"Juventus\")].limit(4).toPandas()"
   ]
  },
  {
   "cell_type": "code",
   "execution_count": 14,
   "metadata": {},
   "outputs": [
    {
     "name": "stdout",
     "output_type": "stream",
     "text": [
      "+----+----+\n",
      "|Name|Club|\n",
      "+----+----+\n",
      "+----+----+\n",
      "\n"
     ]
    }
   ],
   "source": [
    "fifa.select(\"Name\",\"Club\").where(fifa.Name.startswith(\"Di\")).where(fifa.Name.endswith(\"o\")).show(5)"
   ]
  },
  {
   "cell_type": "code",
   "execution_count": 15,
   "metadata": {},
   "outputs": [
    {
     "data": {
      "text/plain": [
       "18207"
      ]
     },
     "execution_count": 15,
     "metadata": {},
     "output_type": "execute_result"
    }
   ],
   "source": [
    "fifa.count()"
   ]
  },
  {
   "cell_type": "code",
   "execution_count": 16,
   "metadata": {},
   "outputs": [
    {
     "data": {
      "text/plain": [
       "100"
      ]
     },
     "execution_count": 16,
     "metadata": {},
     "output_type": "execute_result"
    }
   ],
   "source": [
    "df = fifa.limit(100)\n",
    "df.count()"
   ]
  },
  {
   "cell_type": "code",
   "execution_count": 17,
   "metadata": {},
   "outputs": [],
   "source": [
    "colList = fifa.columns[0:5]\n",
    "df3 = fifa.select(colList)"
   ]
  },
  {
   "cell_type": "code",
   "execution_count": 18,
   "metadata": {},
   "outputs": [
    {
     "name": "stdout",
     "output_type": "stream",
     "text": [
      "+---+------+-----------------+-----+--------------------+\n",
      "| ID|  Name|              Age|Photo|         Nationality|\n",
      "+---+------+-----------------+-----+--------------------+\n",
      "|  0|158023|         L. Messi|   31|https://cdn.sofif...|\n",
      "|  1| 20801|Cristiano Ronaldo|   33|https://cdn.sofif...|\n",
      "|  2|190871|        Neymar Jr|   26|https://cdn.sofif...|\n",
      "|  3|193080|           De Gea|   27|https://cdn.sofif...|\n",
      "|  4|192985|     K. De Bruyne|   27|https://cdn.sofif...|\n",
      "|  5|183277|        E. Hazard|   27|https://cdn.sofif...|\n",
      "|  6|177003|        L. Modrić|   32|https://cdn.sofif...|\n",
      "|  7|176580|        L. Suárez|   31|https://cdn.sofif...|\n",
      "|  8|155862|     Sergio Ramos|   32|https://cdn.sofif...|\n",
      "|  9|200389|         J. Oblak|   25|https://cdn.sofif...|\n",
      "| 10|188545|   R. Lewandowski|   29|https://cdn.sofif...|\n",
      "| 11|182521|         T. Kroos|   28|https://cdn.sofif...|\n",
      "| 12|182493|         D. Godín|   32|https://cdn.sofif...|\n",
      "| 13|168542|      David Silva|   32|https://cdn.sofif...|\n",
      "| 14|215914|         N. Kanté|   27|https://cdn.sofif...|\n",
      "| 15|211110|        P. Dybala|   24|https://cdn.sofif...|\n",
      "| 16|202126|          H. Kane|   24|https://cdn.sofif...|\n",
      "| 17|194765|     A. Griezmann|   27|https://cdn.sofif...|\n",
      "| 18|192448|    M. ter Stegen|   26|https://cdn.sofif...|\n",
      "| 19|192119|      T. Courtois|   26|https://cdn.sofif...|\n",
      "+---+------+-----------------+-----+--------------------+\n",
      "only showing top 20 rows\n",
      "\n"
     ]
    }
   ],
   "source": [
    "df3.show()"
   ]
  },
  {
   "cell_type": "code",
   "execution_count": 19,
   "metadata": {},
   "outputs": [
    {
     "data": {
      "text/plain": [
       "5"
      ]
     },
     "execution_count": 19,
     "metadata": {},
     "output_type": "execute_result"
    }
   ],
   "source": [
    "len(df3.columns)"
   ]
  },
  {
   "cell_type": "code",
   "execution_count": 20,
   "metadata": {},
   "outputs": [
    {
     "name": "stdout",
     "output_type": "stream",
     "text": [
      "+---------+\n",
      "|        x|\n",
      "+---------+\n",
      "|[1, 2, 3]|\n",
      "|   [4, 5]|\n",
      "+---------+\n",
      "\n"
     ]
    }
   ],
   "source": [
    "df = spark.createDataFrame([([1,2,3],),([4,5],)],['x'])\n",
    "df.show()"
   ]
  },
  {
   "cell_type": "code",
   "execution_count": 21,
   "metadata": {},
   "outputs": [
    {
     "name": "stdout",
     "output_type": "stream",
     "text": [
      "+---------+\n",
      "|Some name|\n",
      "+---------+\n",
      "|   [2, 3]|\n",
      "|      [5]|\n",
      "+---------+\n",
      "\n"
     ]
    }
   ],
   "source": [
    "df.select(slice(df.x,2,2).alias('Some name')).show()"
   ]
  },
  {
   "cell_type": "code",
   "execution_count": 32,
   "metadata": {},
   "outputs": [
    {
     "data": {
      "text/html": [
       "<div>\n",
       "<style scoped>\n",
       "    .dataframe tbody tr th:only-of-type {\n",
       "        vertical-align: middle;\n",
       "    }\n",
       "\n",
       "    .dataframe tbody tr th {\n",
       "        vertical-align: top;\n",
       "    }\n",
       "\n",
       "    .dataframe thead th {\n",
       "        text-align: right;\n",
       "    }\n",
       "</style>\n",
       "<table border=\"1\" class=\"dataframe\">\n",
       "  <thead>\n",
       "    <tr style=\"text-align: right;\">\n",
       "      <th></th>\n",
       "      <th>ID</th>\n",
       "      <th>Name</th>\n",
       "      <th>Age</th>\n",
       "      <th>Photo</th>\n",
       "      <th>Nationality</th>\n",
       "      <th>Flag</th>\n",
       "      <th>Overall</th>\n",
       "      <th>Potential</th>\n",
       "      <th>Club</th>\n",
       "      <th>Club Logo</th>\n",
       "      <th>...</th>\n",
       "      <th>Composure</th>\n",
       "      <th>Marking</th>\n",
       "      <th>StandingTackle</th>\n",
       "      <th>SlidingTackle</th>\n",
       "      <th>GKDiving</th>\n",
       "      <th>GKHandling</th>\n",
       "      <th>GKKicking</th>\n",
       "      <th>GKPositioning</th>\n",
       "      <th>GKReflexes</th>\n",
       "      <th>Release Clause</th>\n",
       "    </tr>\n",
       "  </thead>\n",
       "  <tbody>\n",
       "  </tbody>\n",
       "</table>\n",
       "<p>0 rows × 88 columns</p>\n",
       "</div>"
      ],
      "text/plain": [
       "Empty DataFrame\n",
       "Columns: [ID, Name, Age, Photo, Nationality, Flag, Overall, Potential, Club, Club Logo, Value, Wage, Special, Preferred Foot, International Reputation, Weak Foot, Skill Moves, Work Rate, Body Type, Real Face, Position, Jersey Number, Joined, Loaned From, Contract Valid Until, Height, Weight, LS, ST, RS, LW, LF, CF, RF, RW, LAM, CAM, RAM, LM, LCM, CM, RCM, RM, LWB, LDM, CDM, RDM, RWB, LB, LCB, CB, RCB, RB, Crossing, Finishing, HeadingAccuracy, ShortPassing, Volleys, Dribbling, Curve, FKAccuracy, LongPassing, BallControl, Acceleration, SprintSpeed, Agility, Reactions, Balance, ShotPower, Jumping, Stamina, Strength, LongShots, Aggression, Interceptions, Positioning, Vision, Penalties, Composure, Marking, StandingTackle, SlidingTackle, GKDiving, GKHandling, GKKicking, GKPositioning, GKReflexes, Release Clause]\n",
       "Index: []\n",
       "\n",
       "[0 rows x 88 columns]"
      ]
     },
     "execution_count": 32,
     "metadata": {},
     "output_type": "execute_result"
    }
   ],
   "source": [
    "fifa.filter(\"Overall>50\").limit(5).toPandas()"
   ]
  },
  {
   "cell_type": "code",
   "execution_count": 27,
   "metadata": {},
   "outputs": [
    {
     "data": {
      "text/html": [
       "<div>\n",
       "<style scoped>\n",
       "    .dataframe tbody tr th:only-of-type {\n",
       "        vertical-align: middle;\n",
       "    }\n",
       "\n",
       "    .dataframe tbody tr th {\n",
       "        vertical-align: top;\n",
       "    }\n",
       "\n",
       "    .dataframe thead th {\n",
       "        text-align: right;\n",
       "    }\n",
       "</style>\n",
       "<table border=\"1\" class=\"dataframe\">\n",
       "  <thead>\n",
       "    <tr style=\"text-align: right;\">\n",
       "      <th></th>\n",
       "      <th>Name</th>\n",
       "      <th>Age</th>\n",
       "    </tr>\n",
       "  </thead>\n",
       "  <tbody>\n",
       "  </tbody>\n",
       "</table>\n",
       "</div>"
      ],
      "text/plain": [
       "Empty DataFrame\n",
       "Columns: [Name, Age]\n",
       "Index: []"
      ]
     },
     "execution_count": 27,
     "metadata": {},
     "output_type": "execute_result"
    }
   ],
   "source": [
    "fifa.filter(\"Overall>=50\").limit(5).select(['Name','Age']).toPandas()"
   ]
  },
  {
   "cell_type": "code",
   "execution_count": 24,
   "metadata": {},
   "outputs": [],
   "source": [
    "result = fifa.filter(\"Overall>50\").select(['Nationality','Name','Age']).orderBy(fifa['Overall'].desc()).collect()"
   ]
  },
  {
   "cell_type": "code",
   "execution_count": 25,
   "metadata": {},
   "outputs": [
    {
     "ename": "IndexError",
     "evalue": "list index out of range",
     "output_type": "error",
     "traceback": [
      "\u001b[0;31m---------------------------------------------------------------------------\u001b[0m",
      "\u001b[0;31mIndexError\u001b[0m                                Traceback (most recent call last)",
      "\u001b[1;32m/home/diego/projetos/src/github.com/DiegoSantosWS/sparkcourse/udemy/classspark/searchdf.ipynb Cell 24'\u001b[0m in \u001b[0;36m<cell line: 1>\u001b[0;34m()\u001b[0m\n\u001b[0;32m----> <a href='vscode-notebook-cell:/home/diego/projetos/src/github.com/DiegoSantosWS/sparkcourse/udemy/classspark/searchdf.ipynb#ch0000023?line=0'>1</a>\u001b[0m \u001b[39mtype\u001b[39m(result[\u001b[39m0\u001b[39;49m])\n",
      "\u001b[0;31mIndexError\u001b[0m: list index out of range"
     ]
    }
   ],
   "source": [
    "type(result[0])"
   ]
  },
  {
   "cell_type": "code",
   "execution_count": null,
   "metadata": {},
   "outputs": [
    {
     "name": "stdout",
     "output_type": "stream",
     "text": [
      "Bast Player Over 50:  C. Addai\n"
     ]
    }
   ],
   "source": [
    "print(\"Worst Player Over 50: \", result[-1][1])"
   ]
  },
  {
   "cell_type": "code",
   "execution_count": null,
   "metadata": {},
   "outputs": [],
   "source": []
  }
 ],
 "metadata": {
  "interpreter": {
   "hash": "7e65be7c203517d8f17909775426de861a05e11d1f84230f0905cec11d30c2e8"
  },
  "kernelspec": {
   "display_name": "Python 3.8.10 ('coursepyspark-ufaD9Cly')",
   "language": "python",
   "name": "python3"
  },
  "language_info": {
   "codemirror_mode": {
    "name": "ipython",
    "version": 3
   },
   "file_extension": ".py",
   "mimetype": "text/x-python",
   "name": "python",
   "nbconvert_exporter": "python",
   "pygments_lexer": "ipython3",
   "version": "3.8.10"
  },
  "orig_nbformat": 4
 },
 "nbformat": 4,
 "nbformat_minor": 2
}
